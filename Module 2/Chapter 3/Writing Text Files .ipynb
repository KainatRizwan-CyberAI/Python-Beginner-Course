{
 "cells": [
  {
   "cell_type": "markdown",
   "id": "e1132bc0",
   "metadata": {},
   "source": [
    "# Let's create a comprehensive program that demonstrates various aspects of writing text files in Python. This program will include:\n",
    "\n",
    "Writing simple text to a new file.\n",
    "Writing multiple lines to a file.\n",
    "Appending text to an existing file.\n",
    "Writing data from variables to a file.\n",
    "Handling errors.\n",
    "Using context managers to ensure proper file handling."
   ]
  },
  {
   "cell_type": "markdown",
   "id": "1f031474",
   "metadata": {},
   "source": [
    "# Explanation of the Program:\n",
    "write_simple_text(file_path): Writes simple text to a file, overwriting any existing content.\n",
    "\n",
    "write_multiple_lines(file_path, lines): Writes multiple lines to a file, overwriting any existing content.\n",
    "\n",
    "append_text(file_path, lines): Appends text to the end of an existing file.\n",
    "write_variable_data(file_path, name, age, occupation): Writes formatted data from variables to a file.\n",
    "\n",
    "main(): The main function that defines file paths, lines to write, and variable data. It then calls the appropriate functions to perform the writing tasks.\n",
    "\n",
    "try-except blocks: Each writing function includes a try-except block to handle potential IOErrors."
   ]
  },
  {
   "cell_type": "code",
   "execution_count": 1,
   "id": "5228006d",
   "metadata": {},
   "outputs": [
    {
     "name": "stdout",
     "output_type": "stream",
     "text": [
      "Simple text written to simple_text.txt\n",
      "Multiple lines written to multiple_lines.txt\n",
      "Simple text written to append_text.txt\n",
      "Text appended to append_text.txt\n",
      "Variable data written to variable_data.txt\n"
     ]
    }
   ],
   "source": [
    "def write_simple_text(file_path):\n",
    "    \"\"\"Write simple text to a new file or overwrite an existing file.\"\"\"\n",
    "    try:\n",
    "        with open(file_path, 'w') as file:\n",
    "            file.write(\"Hello, World!\\n\")\n",
    "            file.write(\"This is a new line of text.\\n\")\n",
    "        print(f\"Simple text written to {file_path}\")\n",
    "    except IOError as e:\n",
    "        print(f\"An IOError occurred while writing simple text: {e}\")\n",
    "\n",
    "def write_multiple_lines(file_path, lines):\n",
    "    \"\"\"Write multiple lines to a new file or overwrite an existing file.\"\"\"\n",
    "    try:\n",
    "        with open(file_path, 'w') as file:\n",
    "            file.writelines(lines)\n",
    "        print(f\"Multiple lines written to {file_path}\")\n",
    "    except IOError as e:\n",
    "        print(f\"An IOError occurred while writing multiple lines: {e}\")\n",
    "\n",
    "def append_text(file_path, lines):\n",
    "    \"\"\"Append text to an existing file.\"\"\"\n",
    "    try:\n",
    "        with open(file_path, 'a') as file:\n",
    "            file.writelines(lines)\n",
    "        print(f\"Text appended to {file_path}\")\n",
    "    except IOError as e:\n",
    "        print(f\"An IOError occurred while appending text: {e}\")\n",
    "\n",
    "def write_variable_data(file_path, name, age, occupation):\n",
    "    \"\"\"Write data from variables to a file.\"\"\"\n",
    "    try:\n",
    "        with open(file_path, 'w') as file:\n",
    "            file.write(f\"Name: {name}\\n\")\n",
    "            file.write(f\"Age: {age}\\n\")\n",
    "            file.write(f\"Occupation: {occupation}\\n\")\n",
    "        print(f\"Variable data written to {file_path}\")\n",
    "    except IOError as e:\n",
    "        print(f\"An IOError occurred while writing variable data: {e}\")\n",
    "\n",
    "def main():\n",
    "    # Define file paths\n",
    "    simple_text_file = 'simple_text.txt'\n",
    "    multiple_lines_file = 'multiple_lines.txt'\n",
    "    append_file = 'append_text.txt'\n",
    "    variable_data_file = 'variable_data.txt'\n",
    "\n",
    "    # Define lines to write\n",
    "    lines = [\n",
    "        \"First line of text.\\n\",\n",
    "        \"Second line of text.\\n\",\n",
    "        \"Third line of text.\\n\"\n",
    "    ]\n",
    "\n",
    "    # Define variable data\n",
    "    name = \"John Doe\"\n",
    "    age = 30\n",
    "    occupation = \"Software Developer\"\n",
    "\n",
    "    # Write simple text to a new file\n",
    "    write_simple_text(simple_text_file)\n",
    "\n",
    "    # Write multiple lines to a new file\n",
    "    write_multiple_lines(multiple_lines_file, lines)\n",
    "\n",
    "    # Write initial content to the append file\n",
    "    write_simple_text(append_file)\n",
    "\n",
    "    # Append text to the existing file\n",
    "    append_text(append_file, [\"Appending this line of text.\\n\", \"Appending another line of text.\\n\"])\n",
    "\n",
    "    # Write variable data to a file\n",
    "    write_variable_data(variable_data_file, name, age, occupation)\n",
    "\n",
    "if __name__ == \"__main__\":\n",
    "    main()"
   ]
  },
  {
   "cell_type": "code",
   "execution_count": null,
   "id": "8c94540b",
   "metadata": {},
   "outputs": [],
   "source": []
  }
 ],
 "metadata": {
  "kernelspec": {
   "display_name": "Python 3 (ipykernel)",
   "language": "python",
   "name": "python3"
  },
  "language_info": {
   "codemirror_mode": {
    "name": "ipython",
    "version": 3
   },
   "file_extension": ".py",
   "mimetype": "text/x-python",
   "name": "python",
   "nbconvert_exporter": "python",
   "pygments_lexer": "ipython3",
   "version": "3.11.5"
  }
 },
 "nbformat": 4,
 "nbformat_minor": 5
}
