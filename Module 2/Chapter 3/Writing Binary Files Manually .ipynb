{
 "cells": [
  {
   "cell_type": "markdown",
   "id": "091de436",
   "metadata": {},
   "source": [
    "# Explanation of the Program:\n",
    "write_binary_data(file_path, data): This function writes binary data to a new file or overwrites an existing file.\n",
    "\n",
    "append_binary_data(file_path, data): This function appends binary data to an existing file.\n",
    "\n",
    "write_integers_as_binary(file_path, integers): This function writes a list of integers as binary data to a new file. It uses the struct.pack method to convert each integer to its binary representation.\n",
    "\n",
    "main(): The main function defines file paths, binary data, and integers. It calls the appropriate functions to perform the writing operations.\n",
    "\n",
    "try-except blocks: Each function includes a try-except block to handle potential IOErrors, ensuring robust error handling."
   ]
  },
  {
   "cell_type": "markdown",
   "id": "fa3c8c1b",
   "metadata": {},
   "source": [
    "# Running the Program\n",
    "To run the program, simply execute the script. This will perform the following operations:\n",
    "\n",
    "Write binary data to a new file (example_binary.dat).\n",
    "Append additional binary data to the same file.\n",
    "Write a list of integers as binary data to a new file (integers_binary.dat)."
   ]
  },
  {
   "cell_type": "code",
   "execution_count": 1,
   "id": "3353d1fd",
   "metadata": {},
   "outputs": [
    {
     "name": "stdout",
     "output_type": "stream",
     "text": [
      "Binary data written to example_binary.dat\n",
      "Binary data appended to example_binary.dat\n",
      "Integer binary data written to integers_binary.dat\n"
     ]
    }
   ],
   "source": [
    "import struct\n",
    "\n",
    "def write_binary_data(file_path, data):\n",
    "    \"\"\"Write binary data to a file.\"\"\"\n",
    "    try:\n",
    "        with open(file_path, 'wb') as file:\n",
    "            file.write(data)\n",
    "        print(f\"Binary data written to {file_path}\")\n",
    "    except IOError as e:\n",
    "        print(f\"An IOError occurred while writing binary data: {e}\")\n",
    "\n",
    "def append_binary_data(file_path, data):\n",
    "    \"\"\"Append binary data to an existing file.\"\"\"\n",
    "    try:\n",
    "        with open(file_path, 'ab') as file:\n",
    "            file.write(data)\n",
    "        print(f\"Binary data appended to {file_path}\")\n",
    "    except IOError as e:\n",
    "        print(f\"An IOError occurred while appending binary data: {e}\")\n",
    "\n",
    "def write_integers_as_binary(file_path, integers):\n",
    "    \"\"\"Write a list of integers to a file as binary data.\"\"\"\n",
    "    try:\n",
    "        with open(file_path, 'wb') as file:\n",
    "            for integer in integers:\n",
    "                file.write(struct.pack('i', integer))  # 'i' format for integer\n",
    "        print(f\"Integer binary data written to {file_path}\")\n",
    "    except IOError as e:\n",
    "        print(f\"An IOError occurred while writing integer binary data: {e}\")\n",
    "\n",
    "def main():\n",
    "    # Define file paths\n",
    "    binary_file = 'example_binary.dat'\n",
    "    integer_binary_file = 'integers_binary.dat'\n",
    "\n",
    "    # Define binary data\n",
    "    binary_data = b'\\x00\\x01\\x02\\x03\\x04\\x05\\x06\\x07\\x08\\x09'  # 10 bytes of binary data\n",
    "\n",
    "    # Write binary data to a new file\n",
    "    write_binary_data(binary_file, binary_data)\n",
    "\n",
    "    # Define binary data to append\n",
    "    append_data = b'\\x0A\\x0B\\x0C\\x0D\\x0E\\x0F'  # 6 more bytes of binary data\n",
    "\n",
    "    # Append binary data to the existing file\n",
    "    append_binary_data(binary_file, append_data)\n",
    "\n",
    "    # Define a list of integers\n",
    "    integers = [1, 2, 3, 4, 5]\n",
    "\n",
    "    # Write integers as binary data to a new file\n",
    "    write_integers_as_binary(integer_binary_file, integers)\n",
    "\n",
    "if __name__ == \"__main__\":\n",
    "    main()\n"
   ]
  },
  {
   "cell_type": "code",
   "execution_count": null,
   "id": "4249d534",
   "metadata": {},
   "outputs": [],
   "source": []
  }
 ],
 "metadata": {
  "kernelspec": {
   "display_name": "Python 3 (ipykernel)",
   "language": "python",
   "name": "python3"
  },
  "language_info": {
   "codemirror_mode": {
    "name": "ipython",
    "version": 3
   },
   "file_extension": ".py",
   "mimetype": "text/x-python",
   "name": "python",
   "nbconvert_exporter": "python",
   "pygments_lexer": "ipython3",
   "version": "3.11.5"
  }
 },
 "nbformat": 4,
 "nbformat_minor": 5
}
