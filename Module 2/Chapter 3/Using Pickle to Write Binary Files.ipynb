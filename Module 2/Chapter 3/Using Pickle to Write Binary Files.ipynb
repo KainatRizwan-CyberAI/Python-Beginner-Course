{
 "cells": [
  {
   "cell_type": "markdown",
   "id": "e2e47740",
   "metadata": {},
   "source": [
    "# Explanation of the Program:\n",
    "serialize_objects(file_path, *objects): This function serializes and writes multiple Python objects to a binary file using pickle.dump(). The *objects parameter allows you to pass multiple objects to the function.\n",
    "\n",
    "deserialize_objects(file_path): This function deserializes and reads Python objects from a binary file using pickle.load(). It reads objects in a loop until it encounters an EOFError, indicating the end of the file.\n",
    "\n",
    "main(): The main function defines a file path and some example objects to serialize. It then calls the serialize_objects function to write these objects to the file and the deserialize_objects function to read them back. Finally, it prints the deserialized objects.\n",
    "\n",
    "try-except blocks: Each function includes try-except blocks to handle potential IOError and pickle.PickleError exceptions, ensuring robust error handling."
   ]
  },
  {
   "cell_type": "markdown",
   "id": "0b9c7ac2",
   "metadata": {},
   "source": [
    "# Running the Program\n",
    "To run the program, simply execute the script. This will perform the following operations:\n",
    "\n",
    "Serialize and write the example objects (obj1, obj2, obj3) to a binary file (objects.pkl).\n",
    "Deserialize and read the objects from the binary file.\n",
    "Print the deserialized objects to verify that the process worked correctly."
   ]
  },
  {
   "cell_type": "code",
   "execution_count": 1,
   "id": "942ff18e",
   "metadata": {},
   "outputs": [
    {
     "name": "stdout",
     "output_type": "stream",
     "text": [
      "Objects serialized and written to objects.pkl\n",
      "Objects deserialized from objects.pkl\n",
      "Object 1: {'name': 'Alice', 'age': 30, 'occupation': 'Engineer'}\n",
      "Object 2: [1, 2, 3, 4, 5]\n",
      "Object 3: ('tuple', True, 3.14)\n"
     ]
    }
   ],
   "source": [
    "import pickle\n",
    "\n",
    "def serialize_objects(file_path, *objects):\n",
    "    \"\"\"Serialize and write multiple Python objects to a binary file.\"\"\"\n",
    "    try:\n",
    "        with open(file_path, 'wb') as file:\n",
    "            for obj in objects:\n",
    "                pickle.dump(obj, file)\n",
    "        print(f\"Objects serialized and written to {file_path}\")\n",
    "    except IOError as e:\n",
    "        print(f\"An IOError occurred while writing binary data: {e}\")\n",
    "    except pickle.PickleError as e:\n",
    "        print(f\"A PickleError occurred: {e}\")\n",
    "\n",
    "def deserialize_objects(file_path):\n",
    "    \"\"\"Deserialize and read Python objects from a binary file.\"\"\"\n",
    "    objects = []\n",
    "    try:\n",
    "        with open(file_path, 'rb') as file:\n",
    "            while True:\n",
    "                try:\n",
    "                    objects.append(pickle.load(file))\n",
    "                except EOFError:\n",
    "                    break\n",
    "        print(f\"Objects deserialized from {file_path}\")\n",
    "    except IOError as e:\n",
    "        print(f\"An IOError occurred while reading binary data: {e}\")\n",
    "    except pickle.PickleError as e:\n",
    "        print(f\"A PickleError occurred: {e}\")\n",
    "    \n",
    "    return objects\n",
    "\n",
    "def main():\n",
    "    # Define file path\n",
    "    pickle_file = 'objects.pkl'\n",
    "\n",
    "    # Define objects to serialize\n",
    "    obj1 = {'name': 'Alice', 'age': 30, 'occupation': 'Engineer'}\n",
    "    obj2 = [1, 2, 3, 4, 5]\n",
    "    obj3 = ('tuple', True, 3.14)\n",
    "\n",
    "    # Serialize and write objects to a binary file\n",
    "    serialize_objects(pickle_file, obj1, obj2, obj3)\n",
    "\n",
    "    # Deserialize and read objects from the binary file\n",
    "    objects = deserialize_objects(pickle_file)\n",
    "\n",
    "    # Print the deserialized objects\n",
    "    for i, obj in enumerate(objects, 1):\n",
    "        print(f\"Object {i}: {obj}\")\n",
    "\n",
    "if __name__ == \"__main__\":\n",
    "    main()\n"
   ]
  },
  {
   "cell_type": "code",
   "execution_count": null,
   "id": "8aafe9e2",
   "metadata": {},
   "outputs": [],
   "source": []
  }
 ],
 "metadata": {
  "kernelspec": {
   "display_name": "Python 3 (ipykernel)",
   "language": "python",
   "name": "python3"
  },
  "language_info": {
   "codemirror_mode": {
    "name": "ipython",
    "version": 3
   },
   "file_extension": ".py",
   "mimetype": "text/x-python",
   "name": "python",
   "nbconvert_exporter": "python",
   "pygments_lexer": "ipython3",
   "version": "3.11.5"
  }
 },
 "nbformat": 4,
 "nbformat_minor": 5
}
