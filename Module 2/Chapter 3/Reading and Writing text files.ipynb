{
 "cells": [
  {
   "cell_type": "markdown",
   "id": "be2d8cf1",
   "metadata": {},
   "source": [
    "# Writing to a Text File\n",
    "To write to a text file, you can use the open() function with the mode 'w' for writing. If the file does not exist, it will be created. If it does exist, it will be overwritten."
   ]
  },
  {
   "cell_type": "code",
   "execution_count": 5,
   "id": "185a3ed6",
   "metadata": {},
   "outputs": [],
   "source": [
    "# Writing to a text file\n",
    "file_path = 'input.txt'\n",
    "\n",
    "with open(file_path, 'w') as file:\n",
    "    file.write(\"Hello, World!\\n\")\n",
    "    file.write(\"This is a new line of text.\\n\")"
   ]
  },
  {
   "cell_type": "markdown",
   "id": "8d27a945",
   "metadata": {},
   "source": [
    "# Reading from a Text File\n",
    "To read from a text file, you can use the open() function with the mode 'r' for reading."
   ]
  },
  {
   "cell_type": "code",
   "execution_count": 6,
   "id": "26d19a21",
   "metadata": {},
   "outputs": [
    {
     "name": "stdout",
     "output_type": "stream",
     "text": [
      "Hello, World!\n",
      "This is a new line of text.\n",
      "\n"
     ]
    }
   ],
   "source": [
    "# Reading the entire file content\n",
    "with open(file_path, 'r') as file:\n",
    "    content = file.read()\n",
    "    print(content)"
   ]
  },
  {
   "cell_type": "code",
   "execution_count": 7,
   "id": "ab4e111c",
   "metadata": {},
   "outputs": [
    {
     "name": "stdout",
     "output_type": "stream",
     "text": [
      "Hello, World!\n",
      "This is a new line of text.\n"
     ]
    }
   ],
   "source": [
    "# Reading the file line by line\n",
    "with open(file_path, 'r') as file:\n",
    "    for line in file:\n",
    "        print(line, end='')"
   ]
  },
  {
   "cell_type": "markdown",
   "id": "833a225b",
   "metadata": {},
   "source": [
    "# Reading and Writing together"
   ]
  },
  {
   "cell_type": "code",
   "execution_count": 4,
   "id": "72e2d099",
   "metadata": {},
   "outputs": [
    {
     "name": "stdout",
     "output_type": "stream",
     "text": [
      "This is the first line.\n",
      "This is the second line.\n",
      "\n"
     ]
    }
   ],
   "source": [
    "input_file_path = 'input.txt'\n",
    "output_file_path = 'output.txt'\n",
    "\n",
    "# Writing some initial content to the input file for demonstration\n",
    "with open(input_file_path, 'w') as file:\n",
    "    file.write(\"This is the first line.\\nThis is the second line.\\n\")\n",
    "\n",
    "# Reading from one file and writing to another\n",
    "with open(input_file_path, 'r') as input_file:\n",
    "    with open(output_file_path, 'w') as output_file:\n",
    "        for line in input_file:\n",
    "            output_file.write(line)\n",
    "\n",
    "# Verifying the output file content\n",
    "with open(output_file_path, 'r') as file:\n",
    "    content = file.read()\n",
    "    print(content)"
   ]
  },
  {
   "cell_type": "code",
   "execution_count": null,
   "id": "81263d7a",
   "metadata": {},
   "outputs": [],
   "source": []
  }
 ],
 "metadata": {
  "kernelspec": {
   "display_name": "Python 3 (ipykernel)",
   "language": "python",
   "name": "python3"
  },
  "language_info": {
   "codemirror_mode": {
    "name": "ipython",
    "version": 3
   },
   "file_extension": ".py",
   "mimetype": "text/x-python",
   "name": "python",
   "nbconvert_exporter": "python",
   "pygments_lexer": "ipython3",
   "version": "3.11.5"
  }
 },
 "nbformat": 4,
 "nbformat_minor": 5
}
