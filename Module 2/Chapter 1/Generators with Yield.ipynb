{
 "cells": [
  {
   "cell_type": "markdown",
   "id": "59646d0f",
   "metadata": {},
   "source": [
    "# Creating Generators with yield\n",
    "\n",
    "Generators are defined using functions and the yield keyword. A generator function is a function that, instead of returning a single value, uses yield to return a series of values, one at a time. Each time the generator's __next__() method is called, the generator resumes where it left off and runs until it hits the next yield statement."
   ]
  },
  {
   "cell_type": "raw",
   "id": "9a011e1f",
   "metadata": {},
   "source": [
    "# How Generators Work\n",
    "\n",
    "When simple_generator() is called, it returns a generator object without starting execution of the function.\n",
    "\n",
    "The next() function is used to iterate through the values yielded by the generator.\n",
    "\n",
    "Each call to next() resumes the function from where it left off, runs until it hits the next yield statement, and returns the yielded value.\n",
    "\n",
    "When the function exits (or yields no further values), a StopIteration exception is raised automatically to signal the end of iteration."
   ]
  },
  {
   "cell_type": "code",
   "execution_count": 1,
   "id": "98b5d292",
   "metadata": {},
   "outputs": [
    {
     "name": "stdout",
     "output_type": "stream",
     "text": [
      "1\n",
      "2\n",
      "3\n"
     ]
    }
   ],
   "source": [
    "def simple_generator():\n",
    "    yield 1\n",
    "    yield 2\n",
    "    yield 3\n",
    "\n",
    "# Using the generator\n",
    "gen = simple_generator()\n",
    "\n",
    "print(next(gen))  # Output: 1\n",
    "print(next(gen))  # Output: 2\n",
    "print(next(gen))  # Output: 3\n",
    "# print(next(gen))  # Raises StopIteration\n"
   ]
  },
  {
   "cell_type": "code",
   "execution_count": 2,
   "id": "8d2a9bf0",
   "metadata": {},
   "outputs": [
    {
     "name": "stdout",
     "output_type": "stream",
     "text": [
      "0\n",
      "1\n",
      "1\n",
      "2\n",
      "3\n",
      "5\n",
      "8\n",
      "13\n",
      "21\n",
      "34\n"
     ]
    }
   ],
   "source": [
    "def fibonacci():\n",
    "    a, b = 0, 1\n",
    "    while True:\n",
    "        yield a\n",
    "        a, b = b, a + b\n",
    "\n",
    "# Using the Fibonacci generator\n",
    "fib = fibonacci()\n",
    "\n",
    "for _ in range(10):\n",
    "    print(next(fib))\n",
    "# Output: 0 1 1 2 3 5 8 13 21 34\n"
   ]
  },
  {
   "cell_type": "code",
   "execution_count": null,
   "id": "a356400b",
   "metadata": {},
   "outputs": [],
   "source": []
  }
 ],
 "metadata": {
  "kernelspec": {
   "display_name": "Python 3 (ipykernel)",
   "language": "python",
   "name": "python3"
  },
  "language_info": {
   "codemirror_mode": {
    "name": "ipython",
    "version": 3
   },
   "file_extension": ".py",
   "mimetype": "text/x-python",
   "name": "python",
   "nbconvert_exporter": "python",
   "pygments_lexer": "ipython3",
   "version": "3.11.5"
  }
 },
 "nbformat": 4,
 "nbformat_minor": 5
}
