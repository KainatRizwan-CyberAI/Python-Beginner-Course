{
 "cells": [
  {
   "cell_type": "markdown",
   "id": "76346642",
   "metadata": {},
   "source": [
    "# next()\n",
    "\n",
    "next() is a built-in Python function that retrieves the next item from an iterator.\n",
    "\n",
    "    When you use next() on an iterator, it calls the iterator's __next__() method internally.\n",
    "    If there are no more items to return, next() raises a StopIteration exception."
   ]
  },
  {
   "cell_type": "code",
   "execution_count": 1,
   "id": "d17e083c",
   "metadata": {},
   "outputs": [
    {
     "name": "stdout",
     "output_type": "stream",
     "text": [
      "1\n",
      "2\n",
      "3\n"
     ]
    }
   ],
   "source": [
    "my_iter = iter([1, 2, 3])\n",
    "print(next(my_iter))  # Output: 1\n",
    "print(next(my_iter))  # Output: 2\n",
    "print(next(my_iter))  # Output: 3\n",
    "# print(next(my_iter))  # Raises StopIteration\n"
   ]
  },
  {
   "cell_type": "markdown",
   "id": "9550c0d6",
   "metadata": {},
   "source": [
    "# range()\n",
    "\n",
    "range() is a built-in function in Python that generates a sequence of numbers. It's commonly used in loops to iterate over a sequence of numbers.\n",
    "\n",
    "    range() returns a range object, which is an immutable sequence of numbers.\n",
    "    By default, range() starts from 0 and generates numbers up to, but not including, the specified end value.\n",
    "    You can also specify a start value and a step value in range(). "
   ]
  },
  {
   "cell_type": "raw",
   "id": "ac17dc6b",
   "metadata": {},
   "source": [
    "Syntax:\n",
    "\n",
    "range(stop)\n",
    "range(start, stop[, step])\n"
   ]
  },
  {
   "cell_type": "code",
   "execution_count": 2,
   "id": "46d30b5b",
   "metadata": {},
   "outputs": [
    {
     "name": "stdout",
     "output_type": "stream",
     "text": [
      "0\n",
      "1\n",
      "2\n",
      "3\n",
      "4\n",
      "2\n",
      "4\n",
      "6\n",
      "8\n"
     ]
    }
   ],
   "source": [
    "# Using range to generate numbers from 0 to 4\n",
    "for i in range(5):\n",
    "    print(i)\n",
    "# Output: 0 1 2 3 4\n",
    "\n",
    "# Using range to generate numbers from 2 to 8 with a step of 2\n",
    "for i in range(2, 10, 2):\n",
    "    print(i)\n",
    "# Output: 2 4 6 8\n"
   ]
  },
  {
   "cell_type": "markdown",
   "id": "4006fa1b",
   "metadata": {},
   "source": [
    "# next() with range()"
   ]
  },
  {
   "cell_type": "code",
   "execution_count": 3,
   "id": "0ed0d148",
   "metadata": {},
   "outputs": [
    {
     "name": "stdout",
     "output_type": "stream",
     "text": [
      "0\n",
      "1\n",
      "2\n",
      "3\n",
      "4\n"
     ]
    }
   ],
   "source": [
    "my_range = iter(range(5))\n",
    "print(next(my_range))  # Output: 0\n",
    "print(next(my_range))  # Output: 1\n",
    "print(next(my_range))  # Output: 2\n",
    "print(next(my_range))  # Output: 3\n",
    "print(next(my_range))  # Output: 4\n",
    "# print(next(my_range))  # Raises StopIteration\n"
   ]
  },
  {
   "cell_type": "code",
   "execution_count": null,
   "id": "cc6ff11d",
   "metadata": {},
   "outputs": [],
   "source": []
  }
 ],
 "metadata": {
  "kernelspec": {
   "display_name": "Python 3 (ipykernel)",
   "language": "python",
   "name": "python3"
  },
  "language_info": {
   "codemirror_mode": {
    "name": "ipython",
    "version": 3
   },
   "file_extension": ".py",
   "mimetype": "text/x-python",
   "name": "python",
   "nbconvert_exporter": "python",
   "pygments_lexer": "ipython3",
   "version": "3.11.5"
  }
 },
 "nbformat": 4,
 "nbformat_minor": 5
}
