{
 "cells": [
  {
   "cell_type": "markdown",
   "id": "8385d0b2",
   "metadata": {},
   "source": [
    "# let's create a program that calculates the sum of all even numbers from 1 to a user-defined upper limit using range()"
   ]
  },
  {
   "cell_type": "raw",
   "id": "082d562e",
   "metadata": {},
   "source": [
    "# Here's how the program works:\n",
    "\n",
    "1) The sum_of_evens function takes an upper limit as input and calculates the sum of all even numbers from 2 to the upper limit using a loop and range() with a step of 2.\n",
    "\n",
    "2) The main function asks the user to input the upper limit and then calls the sum_of_evens function to calculate the sum of even numbers up to that limit.\n",
    "\n",
    "3) If the user enters a valid integer greater than or equal to 2, the program calculates and prints the sum of even numbers. Otherwise, it displays an error message."
   ]
  },
  {
   "cell_type": "code",
   "execution_count": 1,
   "id": "6a2b778c",
   "metadata": {},
   "outputs": [
    {
     "name": "stdout",
     "output_type": "stream",
     "text": [
      "Enter the upper limit: 5\n",
      "The sum of even numbers from 2 to 5 is: 6\n"
     ]
    }
   ],
   "source": [
    "def sum_of_evens(upper_limit):\n",
    "    total_sum = 0\n",
    "    for num in range(2, upper_limit + 1, 2):  # Start from 2 and step by 2 to get even numbers\n",
    "        total_sum += num\n",
    "    return total_sum\n",
    "\n",
    "def main():\n",
    "    # Ask the user for the upper limit\n",
    "    try:\n",
    "        upper_limit = int(input(\"Enter the upper limit: \"))\n",
    "        if upper_limit < 2:\n",
    "            print(\"Upper limit must be at least 2.\")\n",
    "        else:\n",
    "            result = sum_of_evens(upper_limit)\n",
    "            print(f\"The sum of even numbers from 2 to {upper_limit} is: {result}\")\n",
    "    except ValueError:\n",
    "        print(\"Invalid input. Please enter a valid integer.\")\n",
    "\n",
    "if __name__ == \"__main__\":\n",
    "    main()\n"
   ]
  },
  {
   "cell_type": "code",
   "execution_count": null,
   "id": "9ffca3b6",
   "metadata": {},
   "outputs": [],
   "source": []
  }
 ],
 "metadata": {
  "kernelspec": {
   "display_name": "Python 3 (ipykernel)",
   "language": "python",
   "name": "python3"
  },
  "language_info": {
   "codemirror_mode": {
    "name": "ipython",
    "version": 3
   },
   "file_extension": ".py",
   "mimetype": "text/x-python",
   "name": "python",
   "nbconvert_exporter": "python",
   "pygments_lexer": "ipython3",
   "version": "3.11.5"
  }
 },
 "nbformat": 4,
 "nbformat_minor": 5
}
