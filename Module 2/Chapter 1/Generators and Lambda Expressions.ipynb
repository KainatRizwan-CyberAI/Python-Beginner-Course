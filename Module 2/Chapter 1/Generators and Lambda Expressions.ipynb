{
 "cells": [
  {
   "cell_type": "markdown",
   "id": "cb69026d",
   "metadata": {},
   "source": [
    "# Generators\n",
    "\n",
    "Generators in Python are a special type of iterator that allow you to iterate over data in a memory-efficient manner. They are defined using functions and the yield statement. Unlike regular functions that use return to return a single value, generators can yield multiple values, one at a time, which makes them particularly useful for handling large data streams."
   ]
  },
  {
   "cell_type": "markdown",
   "id": "40328271",
   "metadata": {},
   "source": [
    "# Creating Generators\n",
    "\n",
    "To create a generator, you define a function that uses the yield keyword."
   ]
  },
  {
   "cell_type": "code",
   "execution_count": 1,
   "id": "b40cef2c",
   "metadata": {},
   "outputs": [
    {
     "name": "stdout",
     "output_type": "stream",
     "text": [
      "1\n",
      "2\n",
      "3\n"
     ]
    }
   ],
   "source": [
    "def simple_generator():\n",
    "    yield 1\n",
    "    yield 2\n",
    "    yield 3\n",
    "\n",
    "gen = simple_generator()\n",
    "\n",
    "# Using the generator\n",
    "for value in gen:\n",
    "    print(value)\n",
    "# Output: \n",
    "# 1\n",
    "# 2\n",
    "# 3\n"
   ]
  },
  {
   "cell_type": "markdown",
   "id": "411f72e7",
   "metadata": {},
   "source": [
    "# Example: Generating an Infinite Sequence"
   ]
  },
  {
   "cell_type": "code",
   "execution_count": 2,
   "id": "b5dedb90",
   "metadata": {},
   "outputs": [
    {
     "name": "stdout",
     "output_type": "stream",
     "text": [
      "0\n",
      "1\n",
      "2\n",
      "3\n",
      "4\n"
     ]
    }
   ],
   "source": [
    "def infinite_sequence():\n",
    "    num = 0\n",
    "    while True:\n",
    "        yield num\n",
    "        num += 1\n",
    "\n",
    "gen = infinite_sequence()\n",
    "for i in range(5):\n",
    "    print(next(gen))\n",
    "# Output:\n",
    "# 0\n",
    "# 1\n",
    "# 2\n",
    "# 3\n",
    "# 4"
   ]
  },
  {
   "cell_type": "markdown",
   "id": "4096d561",
   "metadata": {},
   "source": [
    "# Lambda Expressions\n",
    "\n",
    "Lambda expressions in Python are small anonymous functions defined with the lambda keyword. They can have any number of arguments but only one expression. Lambda functions are often used for short, simple functions that are not reused elsewhere."
   ]
  },
  {
   "cell_type": "markdown",
   "id": "1bef3d10",
   "metadata": {},
   "source": [
    "# Example: Basic Lambda Expression"
   ]
  },
  {
   "cell_type": "code",
   "execution_count": 3,
   "id": "335a40c3",
   "metadata": {},
   "outputs": [
    {
     "name": "stdout",
     "output_type": "stream",
     "text": [
      "5\n",
      "5\n"
     ]
    }
   ],
   "source": [
    "# Regular function\n",
    "def add(x, y):\n",
    "    return x + y\n",
    "\n",
    "# Lambda function\n",
    "add_lambda = lambda x, y: x + y\n",
    "\n",
    "print(add(2, 3))         # Output: 5\n",
    "print(add_lambda(2, 3))  # Output: 5\n"
   ]
  },
  {
   "cell_type": "markdown",
   "id": "534ce8b2",
   "metadata": {},
   "source": [
    "# Using Lambda with Built-in Functions\n",
    "\n",
    "Lambda functions are often used with functions like map(), filter(), and sorted()."
   ]
  },
  {
   "cell_type": "code",
   "execution_count": 4,
   "id": "052befb9",
   "metadata": {},
   "outputs": [
    {
     "name": "stdout",
     "output_type": "stream",
     "text": [
      "[1, 4, 9, 16, 25]\n"
     ]
    }
   ],
   "source": [
    "#map(): Applies a function to all items in an input list.\n",
    "numbers = [1, 2, 3, 4, 5]\n",
    "squared = map(lambda x: x**2, numbers)\n",
    "print(list(squared))  # Output: [1, 4, 9, 16, 25]\n"
   ]
  },
  {
   "cell_type": "code",
   "execution_count": 5,
   "id": "05b33309",
   "metadata": {},
   "outputs": [
    {
     "name": "stdout",
     "output_type": "stream",
     "text": [
      "[2, 4]\n"
     ]
    }
   ],
   "source": [
    "#filter(): Filters items in an input list.\n",
    "numbers = [1, 2, 3, 4, 5]\n",
    "evens = filter(lambda x: x % 2 == 0, numbers)\n",
    "print(list(evens))  # Output: [2, 4]\n"
   ]
  },
  {
   "cell_type": "code",
   "execution_count": 6,
   "id": "0dce3a7e",
   "metadata": {},
   "outputs": [
    {
     "name": "stdout",
     "output_type": "stream",
     "text": [
      "[(1, 'one'), (3, 'three'), (2, 'two')]\n"
     ]
    }
   ],
   "source": [
    "#sorted(): Sorts items in an input list.\n",
    "pairs = [(1, 'one'), (2, 'two'), (3, 'three')]\n",
    "sorted_pairs = sorted(pairs, key=lambda x: x[1])\n",
    "print(sorted_pairs)  # Output: [(1, 'one'), (3, 'three'), (2, 'two')]\n"
   ]
  },
  {
   "cell_type": "markdown",
   "id": "9676ae2f",
   "metadata": {},
   "source": [
    "# Combining Generators and Lambda Expressions"
   ]
  },
  {
   "cell_type": "code",
   "execution_count": 7,
   "id": "dee3ef98",
   "metadata": {},
   "outputs": [
    {
     "name": "stdout",
     "output_type": "stream",
     "text": [
      "<function <genexpr>.<lambda> at 0x0000028317802340>\n",
      "<function <genexpr>.<lambda> at 0x0000028317802480>\n",
      "<function <genexpr>.<lambda> at 0x0000028317802340>\n",
      "<function <genexpr>.<lambda> at 0x0000028317802480>\n",
      "<function <genexpr>.<lambda> at 0x0000028317802340>\n"
     ]
    }
   ],
   "source": [
    "# Generator expression with lambda\n",
    "squared_gen = (lambda x: x**2 for x in range(5))\n",
    "for value in squared_gen:\n",
    "    print(value)\n",
    "# Output:\n",
    "# 0\n",
    "# 1\n",
    "# 4\n",
    "# 9\n",
    "# 16\n"
   ]
  },
  {
   "cell_type": "code",
   "execution_count": null,
   "id": "652bb5c3",
   "metadata": {},
   "outputs": [],
   "source": []
  }
 ],
 "metadata": {
  "kernelspec": {
   "display_name": "Python 3 (ipykernel)",
   "language": "python",
   "name": "python3"
  },
  "language_info": {
   "codemirror_mode": {
    "name": "ipython",
    "version": 3
   },
   "file_extension": ".py",
   "mimetype": "text/x-python",
   "name": "python",
   "nbconvert_exporter": "python",
   "pygments_lexer": "ipython3",
   "version": "3.11.5"
  }
 },
 "nbformat": 4,
 "nbformat_minor": 5
}
