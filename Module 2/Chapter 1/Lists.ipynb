{
 "cells": [
  {
   "cell_type": "code",
   "execution_count": 1,
   "id": "4ecd791a",
   "metadata": {},
   "outputs": [],
   "source": [
    "# Creating a list\n",
    "my_list = [1, 2, 3, 4, 5]\n"
   ]
  },
  {
   "cell_type": "code",
   "execution_count": 3,
   "id": "acedd3cb",
   "metadata": {},
   "outputs": [
    {
     "name": "stdout",
     "output_type": "stream",
     "text": [
      "1\n",
      "5\n"
     ]
    }
   ],
   "source": [
    "# Accessing the first element\n",
    "first_element = my_list[0]  # Output: 1\n",
    "print(first_element)\n",
    "\n",
    "# Accessing the last element\n",
    "last_element = my_list[-1]  # Output: 5\n",
    "print(last_element)\n"
   ]
  },
  {
   "cell_type": "code",
   "execution_count": null,
   "id": "0cd68690",
   "metadata": {},
   "outputs": [],
   "source": [
    "# Changing an element\n",
    "my_list[1] = 20  # my_list becomes [1, 20, 3, 4, 5]\n",
    "\n",
    "# Adding an element to the end\n",
    "my_list.append(6)  # my_list becomes [1, 20, 3, 4, 5, 6]\n",
    "\n",
    "# Removing an element\n",
    "my_list.remove(20)  # my_list becomes [1, 3, 4, 5, 6]\n"
   ]
  },
  {
   "cell_type": "code",
   "execution_count": null,
   "id": "dacd41dd",
   "metadata": {},
   "outputs": [],
   "source": [
    "# Creating a list\n",
    "fruits = ['apple', 'banana', 'cherry']\n",
    "\n",
    "# Adding an element\n",
    "fruits.append('date')  # ['apple', 'banana', 'cherry', 'date']\n",
    "\n",
    "# Inserting an element at a specific position\n",
    "fruits.insert(1, 'blueberry')  # ['apple', 'blueberry', 'banana', 'cherry', 'date']\n",
    "\n",
    "# Removing an element\n",
    "fruits.remove('banana')  # ['apple', 'blueberry', 'cherry', 'date']\n",
    "\n",
    "# Popping the last element\n",
    "last_fruit = fruits.pop()  # 'date', fruits becomes ['apple', 'blueberry', 'cherry']\n",
    "\n",
    "# Sorting the list\n",
    "fruits.sort()  # ['apple', 'blueberry', 'cherry']\n",
    "\n",
    "# Reversing the list\n",
    "fruits.reverse()  # ['cherry', 'blueberry', 'apple']\n"
   ]
  },
  {
   "cell_type": "code",
   "execution_count": null,
   "id": "4fde6f31",
   "metadata": {},
   "outputs": [],
   "source": [
    "# Creating a list of squares\n",
    "squares = [x**2 for x in range(10)]  # [0, 1, 4, 9, 16, 25, 36, 49, 64, 81]\n"
   ]
  }
 ],
 "metadata": {
  "kernelspec": {
   "display_name": "Python 3 (ipykernel)",
   "language": "python",
   "name": "python3"
  },
  "language_info": {
   "codemirror_mode": {
    "name": "ipython",
    "version": 3
   },
   "file_extension": ".py",
   "mimetype": "text/x-python",
   "name": "python",
   "nbconvert_exporter": "python",
   "pygments_lexer": "ipython3",
   "version": "3.11.5"
  }
 },
 "nbformat": 4,
 "nbformat_minor": 5
}
