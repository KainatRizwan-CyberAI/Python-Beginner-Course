{
 "cells": [
  {
   "cell_type": "markdown",
   "id": "227f6995",
   "metadata": {},
   "source": [
    "In Python, sets are unordered collections of unique elements. However, you can maintain the order of elements by using ordered sets. Python does not have a built-in ordered set data structure, but you can achieve ordered sets using the collections.OrderedDict or by using the third-party library collections.ordered_set."
   ]
  },
  {
   "cell_type": "markdown",
   "id": "0f9b2d40",
   "metadata": {},
   "source": [
    "# Using collections.OrderedDict\n",
    "\n",
    "collections.OrderedDict is a subclass of dict that remembers the order in which items are inserted. You can use it to maintain the order of elements in a set-like structure."
   ]
  },
  {
   "cell_type": "code",
   "execution_count": 1,
   "id": "cc9deca1",
   "metadata": {},
   "outputs": [
    {
     "name": "stdout",
     "output_type": "stream",
     "text": [
      "odict_keys(['a', 'b', 'c'])\n"
     ]
    }
   ],
   "source": [
    "from collections import OrderedDict\n",
    "\n",
    "# Creating an ordered set using OrderedDict\n",
    "ordered_set = OrderedDict.fromkeys(['a', 'b', 'c', 'b', 'a'])\n",
    "\n",
    "# Printing the ordered set\n",
    "print(ordered_set.keys())  # Output: odict_keys(['a', 'b', 'c'])\n"
   ]
  },
  {
   "cell_type": "code",
   "execution_count": 3,
   "id": "b53b5315",
   "metadata": {},
   "outputs": [
    {
     "name": "stdout",
     "output_type": "stream",
     "text": [
      "Collecting ordered-set\n",
      "  Obtaining dependency information for ordered-set from https://files.pythonhosted.org/packages/33/55/af02708f230eb77084a299d7b08175cff006dea4f2721074b92cdb0296c0/ordered_set-4.1.0-py3-none-any.whl.metadata\n",
      "  Downloading ordered_set-4.1.0-py3-none-any.whl.metadata (5.3 kB)\n",
      "Downloading ordered_set-4.1.0-py3-none-any.whl (7.6 kB)\n",
      "Installing collected packages: ordered-set\n",
      "Successfully installed ordered-set-4.1.0\n",
      "Note: you may need to restart the kernel to use updated packages.\n"
     ]
    }
   ],
   "source": [
    "pip install ordered-set\n"
   ]
  },
  {
   "cell_type": "code",
   "execution_count": 2,
   "id": "b8b9b8ab",
   "metadata": {},
   "outputs": [
    {
     "name": "stdout",
     "output_type": "stream",
     "text": [
      "OrderedSet(['a', 'b', 'c'])\n"
     ]
    }
   ],
   "source": [
    "from ordered_set import OrderedSet\n",
    "\n",
    "# Creating an ordered set using ordered_set\n",
    "ordered_set = OrderedSet(['a', 'b', 'c', 'b', 'a'])\n",
    "\n",
    "# Printing the ordered set\n",
    "print(ordered_set)  # Output: OrderedSet(['a', 'b', 'c'])\n"
   ]
  },
  {
   "cell_type": "code",
   "execution_count": null,
   "id": "fb910296",
   "metadata": {},
   "outputs": [],
   "source": []
  }
 ],
 "metadata": {
  "kernelspec": {
   "display_name": "Python 3 (ipykernel)",
   "language": "python",
   "name": "python3"
  },
  "language_info": {
   "codemirror_mode": {
    "name": "ipython",
    "version": 3
   },
   "file_extension": ".py",
   "mimetype": "text/x-python",
   "name": "python",
   "nbconvert_exporter": "python",
   "pygments_lexer": "ipython3",
   "version": "3.11.5"
  }
 },
 "nbformat": 4,
 "nbformat_minor": 5
}
