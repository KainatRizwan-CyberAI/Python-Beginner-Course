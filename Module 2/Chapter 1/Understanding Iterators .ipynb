{
 "cells": [
  {
   "cell_type": "markdown",
   "id": "b22fb5de",
   "metadata": {},
   "source": [
    "# Iterators"
   ]
  },
  {
   "cell_type": "markdown",
   "id": "587c0c17",
   "metadata": {},
   "source": [
    "In Python, an iterator is an object that can be iterated (looped) upon. It provides a mechanism to access elements of a collection (like lists, tuples, or dictionaries) one at a time without needing to know the underlying structure of the collection. Iterators are a fundamental part of Python programming, enabling efficient looping and processing of data."
   ]
  },
  {
   "cell_type": "markdown",
   "id": "d01d8428",
   "metadata": {},
   "source": [
    "# Creating and Using Iterators\n",
    "Example: Using Built-in Iterators"
   ]
  },
  {
   "cell_type": "code",
   "execution_count": 1,
   "id": "e68b8772",
   "metadata": {},
   "outputs": [
    {
     "name": "stdout",
     "output_type": "stream",
     "text": [
      "1\n",
      "2\n",
      "3\n",
      "4\n",
      "5\n"
     ]
    }
   ],
   "source": [
    "# Example of using an iterator with a list\n",
    "my_list = [1, 2, 3, 4, 5]\n",
    "my_iterator = iter(my_list)  # Creating an iterator\n",
    "\n",
    "print(next(my_iterator))  # Output: 1\n",
    "print(next(my_iterator))  # Output: 2\n",
    "print(next(my_iterator))  # Output: 3\n",
    "print(next(my_iterator))  # Output: 4\n",
    "print(next(my_iterator))  # Output: 5\n",
    "# print(next(my_iterator))  # Raises StopIteration exception\n"
   ]
  },
  {
   "cell_type": "markdown",
   "id": "d7d5085d",
   "metadata": {},
   "source": [
    "# Example: Custom Iterator\n",
    "\n",
    "You can create your own iterator by defining a class that implements the __iter__() and __next__() methods."
   ]
  },
  {
   "cell_type": "code",
   "execution_count": 2,
   "id": "857b1901",
   "metadata": {},
   "outputs": [
    {
     "name": "stdout",
     "output_type": "stream",
     "text": [
      "1\n",
      "2\n",
      "3\n",
      "4\n",
      "5\n"
     ]
    }
   ],
   "source": [
    "class MyIterator:\n",
    "    def __init__(self, start, end):\n",
    "        self.current = start\n",
    "        self.end = end\n",
    "\n",
    "    def __iter__(self):\n",
    "        return self\n",
    "\n",
    "    def __next__(self):\n",
    "        if self.current <= self.end:\n",
    "            current = self.current\n",
    "            self.current += 1\n",
    "            return current\n",
    "        else:\n",
    "            raise StopIteration\n",
    "\n",
    "# Using the custom iterator\n",
    "my_iter = MyIterator(1, 5)\n",
    "for num in my_iter:\n",
    "    print(num)  # Output: 1 2 3 4 5\n"
   ]
  },
  {
   "cell_type": "code",
   "execution_count": null,
   "id": "d6cab499",
   "metadata": {},
   "outputs": [],
   "source": []
  }
 ],
 "metadata": {
  "kernelspec": {
   "display_name": "Python 3 (ipykernel)",
   "language": "python",
   "name": "python3"
  },
  "language_info": {
   "codemirror_mode": {
    "name": "ipython",
    "version": 3
   },
   "file_extension": ".py",
   "mimetype": "text/x-python",
   "name": "python",
   "nbconvert_exporter": "python",
   "pygments_lexer": "ipython3",
   "version": "3.11.5"
  }
 },
 "nbformat": 4,
 "nbformat_minor": 5
}
