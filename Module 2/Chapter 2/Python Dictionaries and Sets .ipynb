{
 "cells": [
  {
   "cell_type": "markdown",
   "id": "2c6dcd39",
   "metadata": {},
   "source": [
    "# Python Dictionaries\n",
    "\n",
    "Dictionaries in Python are unordered collections of key-value pairs. They are mutable, meaning their contents can be modified after creation. Dictionaries are widely used in Python because of their versatility and efficiency in storing and retrieving data."
   ]
  },
  {
   "cell_type": "code",
   "execution_count": 1,
   "id": "1cde08fd",
   "metadata": {},
   "outputs": [],
   "source": [
    "#Creating Dictionaries\n",
    "# Creating a dictionary\n",
    "my_dict = {\"key1\": \"value1\", \"key2\": \"value2\", \"key3\": \"value3\"}"
   ]
  },
  {
   "cell_type": "code",
   "execution_count": 2,
   "id": "c4011274",
   "metadata": {},
   "outputs": [
    {
     "name": "stdout",
     "output_type": "stream",
     "text": [
      "value1\n",
      "value2\n"
     ]
    }
   ],
   "source": [
    "# Accessing values\n",
    "print(my_dict[\"key1\"])  # Output: value1\n",
    "print(my_dict.get(\"key2\"))  # Output: value2\n"
   ]
  },
  {
   "cell_type": "code",
   "execution_count": 4,
   "id": "5a40360a",
   "metadata": {},
   "outputs": [
    {
     "ename": "KeyError",
     "evalue": "'key3'",
     "output_type": "error",
     "traceback": [
      "\u001b[1;31m---------------------------------------------------------------------------\u001b[0m",
      "\u001b[1;31mKeyError\u001b[0m                                  Traceback (most recent call last)",
      "Cell \u001b[1;32mIn[4], line 9\u001b[0m\n\u001b[0;32m      6\u001b[0m my_dict[\u001b[38;5;124m\"\u001b[39m\u001b[38;5;124mkey2\u001b[39m\u001b[38;5;124m\"\u001b[39m] \u001b[38;5;241m=\u001b[39m \u001b[38;5;124m\"\u001b[39m\u001b[38;5;124mnew_value2\u001b[39m\u001b[38;5;124m\"\u001b[39m\n\u001b[0;32m      8\u001b[0m \u001b[38;5;66;03m# Removing a key-value pair\u001b[39;00m\n\u001b[1;32m----> 9\u001b[0m \u001b[38;5;28;01mdel\u001b[39;00m my_dict[\u001b[38;5;124m\"\u001b[39m\u001b[38;5;124mkey3\u001b[39m\u001b[38;5;124m\"\u001b[39m]\n\u001b[0;32m     10\u001b[0m \u001b[38;5;28mprint\u001b[39m(my_dict)\n",
      "\u001b[1;31mKeyError\u001b[0m: 'key3'"
     ]
    }
   ],
   "source": [
    "## Modifying Dictionaries ##\n",
    "# Adding a new key-value pair\n",
    "my_dict[\"key4\"] = \"value4\"\n",
    "\n",
    "# Modifying a value\n",
    "my_dict[\"key2\"] = \"new_value2\"\n",
    "\n",
    "# Removing a key-value pair\n",
    "del my_dict[\"key3\"]\n",
    "print(my_dict)"
   ]
  },
  {
   "cell_type": "markdown",
   "id": "e3275684",
   "metadata": {},
   "source": [
    "# Dictionary Methods\n",
    "\n",
    "Dictionaries come with various built-in methods for common operations like adding, updating, and removing items.\n",
    "\n",
    "    keys(): Returns a view object of all keys in the dictionary.\n",
    "    values(): Returns a view object of all values in the dictionary.\n",
    "    items(): Returns a view object of all key-value pairs in the dictionary.\n",
    "    update(): Updates the dictionary with key-value pairs from another dictionary or iterable.\n",
    "    pop(): Removes and returns the value associated with the specified key.\n",
    "    popitem(): Removes and returns the last key-value pair inserted into the dictionary."
   ]
  },
  {
   "cell_type": "markdown",
   "id": "f98a7e29",
   "metadata": {},
   "source": [
    "# Python Sets\n",
    "\n",
    "Sets in Python are unordered collections of unique elements. They are mutable, but their elements must be immutable (e.g., numbers, strings, or tuples). Sets are useful for tasks that involve membership testing, removing duplicates, and mathematical operations like union, intersection, and difference."
   ]
  },
  {
   "cell_type": "code",
   "execution_count": 6,
   "id": "d320e8ea",
   "metadata": {},
   "outputs": [],
   "source": [
    "# Creating a set\n",
    "my_set = {1, 2, 3, 4, 5}\n"
   ]
  },
  {
   "cell_type": "code",
   "execution_count": 7,
   "id": "cb59e443",
   "metadata": {},
   "outputs": [
    {
     "name": "stdout",
     "output_type": "stream",
     "text": [
      "True\n"
     ]
    }
   ],
   "source": [
    "# Checking membership\n",
    "print(1 in my_set)  # Output: True\n"
   ]
  },
  {
   "cell_type": "code",
   "execution_count": 8,
   "id": "bf92d75a",
   "metadata": {},
   "outputs": [],
   "source": [
    "# Adding elements\n",
    "my_set.add(6)\n",
    "\n",
    "# Removing elements\n",
    "my_set.remove(3)\n"
   ]
  },
  {
   "cell_type": "code",
   "execution_count": 9,
   "id": "03c603e4",
   "metadata": {},
   "outputs": [
    {
     "name": "stdout",
     "output_type": "stream",
     "text": [
      "{1, 2, 3, 4, 5}\n",
      "{3}\n",
      "{1, 2}\n",
      "{1, 2, 4, 5}\n"
     ]
    }
   ],
   "source": [
    "## Set Operations ##\n",
    "set1 = {1, 2, 3}\n",
    "set2 = {3, 4, 5}\n",
    "\n",
    "# Union\n",
    "print(set1 | set2)  # Output: {1, 2, 3, 4, 5}\n",
    "\n",
    "# Intersection\n",
    "print(set1 & set2)  # Output: {3}\n",
    "\n",
    "# Difference\n",
    "print(set1 - set2)  # Output: {1, 2}\n",
    "\n",
    "# Symmetric Difference\n",
    "print(set1 ^ set2)  # Output: {1, 2, 4, 5}\n"
   ]
  },
  {
   "cell_type": "code",
   "execution_count": null,
   "id": "94f997e7",
   "metadata": {},
   "outputs": [],
   "source": []
  }
 ],
 "metadata": {
  "kernelspec": {
   "display_name": "Python 3 (ipykernel)",
   "language": "python",
   "name": "python3"
  },
  "language_info": {
   "codemirror_mode": {
    "name": "ipython",
    "version": 3
   },
   "file_extension": ".py",
   "mimetype": "text/x-python",
   "name": "python",
   "nbconvert_exporter": "python",
   "pygments_lexer": "ipython3",
   "version": "3.11.5"
  }
 },
 "nbformat": 4,
 "nbformat_minor": 5
}
