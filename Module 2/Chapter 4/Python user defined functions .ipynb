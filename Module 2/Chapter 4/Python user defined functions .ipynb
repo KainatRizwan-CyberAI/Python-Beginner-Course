{
 "cells": [
  {
   "cell_type": "code",
   "execution_count": 1,
   "id": "72e01f7e",
   "metadata": {},
   "outputs": [
    {
     "name": "stdout",
     "output_type": "stream",
     "text": [
      "Hello, welcome to the Python program!\n",
      "Hello, Alice! Welcome to the Python program!\n",
      "The sum of 5 and 7 is 12\n",
      "Good morning, Bob!\n",
      "Good evening, Charlie!\n",
      "The total sum of the numbers is 15\n",
      "name: Diana\n",
      "age: 30\n",
      "occupation: Engineer\n"
     ]
    }
   ],
   "source": [
    "# Simple function without parameters\n",
    "def greet():\n",
    "    \"\"\"Prints a greeting message.\"\"\"\n",
    "    print(\"Hello, welcome to the Python program!\")\n",
    "\n",
    "# Simple function with parameters\n",
    "def greet_person(name):\n",
    "    \"\"\"Prints a greeting message to a specific person.\"\"\"\n",
    "    print(f\"Hello, {name}! Welcome to the Python program!\")\n",
    "\n",
    "# Function that returns a value\n",
    "def add_numbers(a, b):\n",
    "    \"\"\"Returns the sum of two numbers.\"\"\"\n",
    "    return a + b\n",
    "\n",
    "# Function with default parameter values\n",
    "def greet_with_time(name, time_of_day=\"morning\"):\n",
    "    \"\"\"Prints a greeting message with the time of day.\"\"\"\n",
    "    print(f\"Good {time_of_day}, {name}!\")\n",
    "\n",
    "# Function with variable-length arguments\n",
    "def sum_all_numbers(*numbers):\n",
    "    \"\"\"Returns the sum of all the numbers provided.\"\"\"\n",
    "    return sum(numbers)\n",
    "\n",
    "# Function with keyword arguments\n",
    "def display_info(**info):\n",
    "    \"\"\"Displays information provided as keyword arguments.\"\"\"\n",
    "    for key, value in info.items():\n",
    "        print(f\"{key}: {value}\")\n",
    "\n",
    "def main():\n",
    "    # Call simple function without parameters\n",
    "    greet()\n",
    "\n",
    "    # Call simple function with parameters\n",
    "    greet_person(\"Alice\")\n",
    "\n",
    "    # Call function that returns a value\n",
    "    sum_result = add_numbers(5, 7)\n",
    "    print(f\"The sum of 5 and 7 is {sum_result}\")\n",
    "\n",
    "    # Call function with default parameter values\n",
    "    greet_with_time(\"Bob\")\n",
    "    greet_with_time(\"Charlie\", \"evening\")\n",
    "\n",
    "    # Call function with variable-length arguments\n",
    "    total_sum = sum_all_numbers(1, 2, 3, 4, 5)\n",
    "    print(f\"The total sum of the numbers is {total_sum}\")\n",
    "\n",
    "    # Call function with keyword arguments\n",
    "    display_info(name=\"Diana\", age=30, occupation=\"Engineer\")\n",
    "\n",
    "if __name__ == \"__main__\":\n",
    "    main()"
   ]
  },
  {
   "cell_type": "code",
   "execution_count": null,
   "id": "435cccb9",
   "metadata": {},
   "outputs": [],
   "source": []
  }
 ],
 "metadata": {
  "kernelspec": {
   "display_name": "Python 3 (ipykernel)",
   "language": "python",
   "name": "python3"
  },
  "language_info": {
   "codemirror_mode": {
    "name": "ipython",
    "version": 3
   },
   "file_extension": ".py",
   "mimetype": "text/x-python",
   "name": "python",
   "nbconvert_exporter": "python",
   "pygments_lexer": "ipython3",
   "version": "3.11.5"
  }
 },
 "nbformat": 4,
 "nbformat_minor": 5
}
