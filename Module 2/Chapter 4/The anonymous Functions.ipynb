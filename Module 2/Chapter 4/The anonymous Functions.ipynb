{
 "cells": [
  {
   "cell_type": "code",
   "execution_count": 1,
   "id": "030bcc54",
   "metadata": {},
   "outputs": [
    {
     "name": "stdout",
     "output_type": "stream",
     "text": [
      "Squared numbers: [1, 4, 9, 16, 25]\n",
      "Even numbers: [2, 4]\n",
      "Maximum number: 20\n",
      "Sum of 10 and 20: 30\n"
     ]
    }
   ],
   "source": [
    "# Define a list of numbers\n",
    "numbers = [1, 2, 3, 4, 5]\n",
    "\n",
    "# Example 1: Square each number using a lambda function\n",
    "squared_numbers = list(map(lambda x: x**2, numbers))\n",
    "print(\"Squared numbers:\", squared_numbers)\n",
    "\n",
    "# Example 2: Filter even numbers using a lambda function\n",
    "even_numbers = list(filter(lambda x: x % 2 == 0, numbers))\n",
    "print(\"Even numbers:\", even_numbers)\n",
    "\n",
    "# Example 3: Find the maximum number using a lambda function\n",
    "max_number = lambda x, y: x if x > y else y\n",
    "print(\"Maximum number:\", max_number(10, 20))\n",
    "\n",
    "# Example 4: Calculate the sum of two numbers using a lambda function assigned to a variable\n",
    "add = lambda x, y: x + y\n",
    "print(\"Sum of 10 and 20:\", add(10, 20))\n"
   ]
  },
  {
   "cell_type": "code",
   "execution_count": null,
   "id": "80c15208",
   "metadata": {},
   "outputs": [],
   "source": []
  }
 ],
 "metadata": {
  "kernelspec": {
   "display_name": "Python 3 (ipykernel)",
   "language": "python",
   "name": "python3"
  },
  "language_info": {
   "codemirror_mode": {
    "name": "ipython",
    "version": 3
   },
   "file_extension": ".py",
   "mimetype": "text/x-python",
   "name": "python",
   "nbconvert_exporter": "python",
   "pygments_lexer": "ipython3",
   "version": "3.11.5"
  }
 },
 "nbformat": 4,
 "nbformat_minor": 5
}
