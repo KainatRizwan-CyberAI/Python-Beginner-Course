{
 "cells": [
  {
   "cell_type": "code",
   "execution_count": null,
   "id": "abae904c",
   "metadata": {},
   "outputs": [],
   "source": [
    "# User-defined functions example\n",
    "def greet(name):\n",
    "    \"\"\"Prints a greeting message.\"\"\"\n",
    "    print(\"Hello,\", name)\n",
    "\n",
    "# Lambda function example\n",
    "square = lambda x: x ** 2\n",
    "\n",
    "# Loop and statement examples\n",
    "def print_odd_numbers(start, end):\n",
    "    \"\"\"Prints odd numbers in a range.\"\"\"\n",
    "    print(\"Odd numbers in the range:\")\n",
    "    for i in range(start, end + 1):\n",
    "        if i % 2 != 0:\n",
    "            print(i)\n",
    "\n",
    "# Module and package example\n",
    "from my_package import module1, module2\n",
    "\n",
    "def main():\n",
    "    # Call user-defined function\n",
    "    greet(\"Alice\")\n",
    "\n",
    "    # Call lambda function\n",
    "    print(\"Square of 5:\", square(5))\n",
    "\n",
    "    # Call loop and statement function\n",
    "    print_odd_numbers(1, 10)\n",
    "\n",
    "    # Call functions from module1\n",
    "    print(module1.greet(\"Bob\"))\n",
    "    print(\"Square of 3:\", module1.square(3))\n",
    "\n",
    "    # Call functions from module2\n",
    "    print(\"Factorial of 5:\", module2.factorial(5))\n",
    "    print(\"Cube of 3:\", module2.cube(3))\n",
    "\n",
    "if __name__ == \"__main__\":\n",
    "    main()\n"
   ]
  }
 ],
 "metadata": {
  "kernelspec": {
   "display_name": "Python 3 (ipykernel)",
   "language": "python",
   "name": "python3"
  },
  "language_info": {
   "codemirror_mode": {
    "name": "ipython",
    "version": 3
   },
   "file_extension": ".py",
   "mimetype": "text/x-python",
   "name": "python",
   "nbconvert_exporter": "python",
   "pygments_lexer": "ipython3",
   "version": "3.11.5"
  }
 },
 "nbformat": 4,
 "nbformat_minor": 5
}
