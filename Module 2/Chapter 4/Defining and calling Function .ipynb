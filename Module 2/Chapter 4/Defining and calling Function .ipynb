{
 "cells": [
  {
   "cell_type": "code",
   "execution_count": 1,
   "id": "095f8410",
   "metadata": {},
   "outputs": [
    {
     "name": "stdout",
     "output_type": "stream",
     "text": [
      "Factorial of 5 is: 120\n",
      "11 is prime: True\n",
      "The 10th Fibonacci number is: 55\n",
      "Printing stars pattern:\n",
      "*\n",
      "**\n",
      "***\n",
      "****\n",
      "*****\n"
     ]
    }
   ],
   "source": [
    "# Function to calculate the factorial of a number\n",
    "def factorial(n):\n",
    "    if n == 0:\n",
    "        return 1\n",
    "    else:\n",
    "        return n * factorial(n - 1)\n",
    "\n",
    "# Function to check if a number is prime\n",
    "def is_prime(n):\n",
    "    if n <= 1:\n",
    "        return False\n",
    "    elif n <= 3:\n",
    "        return True\n",
    "    elif n % 2 == 0 or n % 3 == 0:\n",
    "        return False\n",
    "    i = 5\n",
    "    while i * i <= n:\n",
    "        if n % i == 0 or n % (i + 2) == 0:\n",
    "            return False\n",
    "        i += 6\n",
    "    return True\n",
    "\n",
    "# Function to calculate the nth Fibonacci number\n",
    "def fibonacci(n):\n",
    "    a, b = 0, 1\n",
    "    for _ in range(n):\n",
    "        a, b = b, a + b\n",
    "    return a\n",
    "\n",
    "# Function to print a pattern of stars\n",
    "def print_stars(rows):\n",
    "    for i in range(1, rows + 1):\n",
    "        print(\"*\" * i)\n",
    "\n",
    "# Main function\n",
    "def main():\n",
    "    # Call factorial function\n",
    "    num = 5\n",
    "    print(f\"Factorial of {num} is: {factorial(num)}\")\n",
    "\n",
    "    # Call is_prime function\n",
    "    num = 11\n",
    "    print(f\"{num} is prime: {is_prime(num)}\")\n",
    "\n",
    "    # Call fibonacci function\n",
    "    n = 10\n",
    "    print(f\"The {n}th Fibonacci number is: {fibonacci(n)}\")\n",
    "\n",
    "    # Call print_stars function\n",
    "    rows = 5\n",
    "    print(\"Printing stars pattern:\")\n",
    "    print_stars(rows)\n",
    "\n",
    "# Call the main function\n",
    "if __name__ == \"__main__\":\n",
    "    main()\n"
   ]
  },
  {
   "cell_type": "code",
   "execution_count": null,
   "id": "29731768",
   "metadata": {},
   "outputs": [],
   "source": []
  }
 ],
 "metadata": {
  "kernelspec": {
   "display_name": "Python 3 (ipykernel)",
   "language": "python",
   "name": "python3"
  },
  "language_info": {
   "codemirror_mode": {
    "name": "ipython",
    "version": 3
   },
   "file_extension": ".py",
   "mimetype": "text/x-python",
   "name": "python",
   "nbconvert_exporter": "python",
   "pygments_lexer": "ipython3",
   "version": "3.11.5"
  }
 },
 "nbformat": 4,
 "nbformat_minor": 5
}
