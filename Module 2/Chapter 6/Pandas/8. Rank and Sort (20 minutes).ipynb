{
 "cells": [
  {
   "cell_type": "markdown",
   "id": "f92eec89",
   "metadata": {},
   "source": [
    "Ranking and sorting in pandas allow you to order your data based on specific criteria. This is useful for organizing data, identifying top values, and preparing data for analysis.\n",
    "\n",
    "Ranking Data: The rank() method assigns ranks to data based on their values, handling ties using various methods.\n",
    "Sorting Data: The sort_values() and sort_index() methods enable you to sort data based on values or index labels.\n",
    "Custom Sorting: You can customize the sorting behavior using parameters like ascending, na_position, and key."
   ]
  },
  {
   "cell_type": "markdown",
   "id": "74384e79",
   "metadata": {},
   "source": [
    "# Ranking Data:"
   ]
  },
  {
   "cell_type": "code",
   "execution_count": 1,
   "id": "f75ceac3",
   "metadata": {},
   "outputs": [
    {
     "name": "stdout",
     "output_type": "stream",
     "text": [
      "Ranked Series:\n",
      "0    4.0\n",
      "1    2.0\n",
      "2    3.0\n",
      "3    1.0\n",
      "4    6.0\n",
      "5    5.0\n",
      "dtype: float64\n",
      "\n",
      "Ranked Series (min method):\n",
      "0    4.0\n",
      "1    2.0\n",
      "2    3.0\n",
      "3    1.0\n",
      "4    6.0\n",
      "5    5.0\n",
      "dtype: float64\n"
     ]
    }
   ],
   "source": [
    "import pandas as pd\n",
    "# Creating a Series\n",
    "s = pd.Series([7, 3, 5, 2, 9, 8])\n",
    "\n",
    "# Ranking the Series\n",
    "ranked_s = s.rank()\n",
    "print(\"Ranked Series:\")\n",
    "print(ranked_s)\n",
    "\n",
    "# Ranking the Series with different tie-breaking method\n",
    "ranked_s_min = s.rank(method='min')\n",
    "print(\"\\nRanked Series (min method):\")\n",
    "print(ranked_s_min)"
   ]
  },
  {
   "cell_type": "markdown",
   "id": "27b99bf4",
   "metadata": {},
   "source": [
    "# Sorting Data by Values:"
   ]
  },
  {
   "cell_type": "code",
   "execution_count": 2,
   "id": "5ae3baf2",
   "metadata": {},
   "outputs": [
    {
     "name": "stdout",
     "output_type": "stream",
     "text": [
      "\n",
      "DataFrame Sorted by Age:\n",
      "      Name  Age         City\n",
      "2  Charlie   22      Chicago\n",
      "0    Alice   24     New York\n",
      "1      Bob   27  Los Angeles\n",
      "3    David   32      Houston\n"
     ]
    }
   ],
   "source": [
    "# Creating a DataFrame\n",
    "df = pd.DataFrame({\n",
    "    'Name': ['Alice', 'Bob', 'Charlie', 'David'],\n",
    "    'Age': [24, 27, 22, 32],\n",
    "    'City': ['New York', 'Los Angeles', 'Chicago', 'Houston']\n",
    "})\n",
    "\n",
    "# Sorting the DataFrame by 'Age'\n",
    "df_sorted = df.sort_values(by='Age')\n",
    "print(\"\\nDataFrame Sorted by Age:\")\n",
    "print(df_sorted)"
   ]
  },
  {
   "cell_type": "markdown",
   "id": "9c80f44a",
   "metadata": {},
   "source": [
    "# Sorting Data by Index:"
   ]
  },
  {
   "cell_type": "code",
   "execution_count": 3,
   "id": "49bda8f9",
   "metadata": {},
   "outputs": [
    {
     "name": "stdout",
     "output_type": "stream",
     "text": [
      "\n",
      "DataFrame Sorted by Index:\n",
      "      Name  Age         City\n",
      "0    Alice   24     New York\n",
      "1      Bob   27  Los Angeles\n",
      "2  Charlie   22      Chicago\n",
      "3    David   32      Houston\n"
     ]
    }
   ],
   "source": [
    "# Sorting the DataFrame by index\n",
    "df_sorted_index = df.sort_index()\n",
    "print(\"\\nDataFrame Sorted by Index:\")\n",
    "print(df_sorted_index)"
   ]
  },
  {
   "cell_type": "markdown",
   "id": "6c320b87",
   "metadata": {},
   "source": [
    "# Custom Sorting:"
   ]
  },
  {
   "cell_type": "code",
   "execution_count": 4,
   "id": "bb9f1f06",
   "metadata": {},
   "outputs": [
    {
     "name": "stdout",
     "output_type": "stream",
     "text": [
      "\n",
      "DataFrame Sorted by City (Descending):\n",
      "      Name  Age         City\n",
      "0    Alice   24     New York\n",
      "1      Bob   27  Los Angeles\n",
      "3    David   32      Houston\n",
      "2  Charlie   22      Chicago\n"
     ]
    }
   ],
   "source": [
    "# Sorting the DataFrame by 'City' in descending order\n",
    "df_sorted_custom = df.sort_values(by='City', ascending=False)\n",
    "print(\"\\nDataFrame Sorted by City (Descending):\")\n",
    "print(df_sorted_custom)"
   ]
  },
  {
   "cell_type": "code",
   "execution_count": null,
   "id": "312eb616",
   "metadata": {},
   "outputs": [],
   "source": []
  }
 ],
 "metadata": {
  "kernelspec": {
   "display_name": "Python 3 (ipykernel)",
   "language": "python",
   "name": "python3"
  },
  "language_info": {
   "codemirror_mode": {
    "name": "ipython",
    "version": 3
   },
   "file_extension": ".py",
   "mimetype": "text/x-python",
   "name": "python",
   "nbconvert_exporter": "python",
   "pygments_lexer": "ipython3",
   "version": "3.11.5"
  }
 },
 "nbformat": 4,
 "nbformat_minor": 5
}
