{
 "cells": [
  {
   "cell_type": "markdown",
   "id": "ef989d08",
   "metadata": {},
   "source": [
    "Selecting entries in pandas involves extracting specific rows and columns from Series or DataFrames based on labels or conditions. This is a fundamental operation for data analysis and manipulation.\n",
    "\n",
    "Label-Based Indexing: You can select entries by their labels using .loc[] for both rows and columns.\n",
    "Integer-Based Indexing: You can select entries by their integer positions using .iloc[].\n",
    "Conditional Selection: You can filter entries based on conditions using boolean indexing."
   ]
  },
  {
   "cell_type": "markdown",
   "id": "d3b15d8d",
   "metadata": {},
   "source": [
    "# Label-Based Indexing with .loc[]:"
   ]
  },
  {
   "cell_type": "code",
   "execution_count": 1,
   "id": "5daadb1b",
   "metadata": {},
   "outputs": [
    {
     "name": "stdout",
     "output_type": "stream",
     "text": [
      "Selecting by label with .loc[]:\n",
      "      Name         City\n",
      "0    Alice     New York\n",
      "1      Bob  Los Angeles\n",
      "2  Charlie      Chicago\n"
     ]
    }
   ],
   "source": [
    "import pandas as pd\n",
    "# Creating a DataFrame\n",
    "df = pd.DataFrame({\n",
    "    'Name': ['Alice', 'Bob', 'Charlie', 'David'],\n",
    "    'Age': [24, 27, 22, 32],\n",
    "    'City': ['New York', 'Los Angeles', 'Chicago', 'Houston']\n",
    "})\n",
    "\n",
    "# Selecting rows and columns by label\n",
    "print(\"Selecting by label with .loc[]:\")\n",
    "print(df.loc[0:2, ['Name', 'City']])"
   ]
  },
  {
   "cell_type": "markdown",
   "id": "4ff4bad3",
   "metadata": {},
   "source": [
    "# Integer-Based Indexing with .iloc[]:"
   ]
  },
  {
   "cell_type": "code",
   "execution_count": 2,
   "id": "34495ce8",
   "metadata": {},
   "outputs": [
    {
     "name": "stdout",
     "output_type": "stream",
     "text": [
      "\n",
      "Selecting by integer position with .iloc[]:\n",
      "      Name  Age\n",
      "1      Bob   27\n",
      "2  Charlie   22\n"
     ]
    }
   ],
   "source": [
    "# Selecting rows and columns by integer position\n",
    "print(\"\\nSelecting by integer position with .iloc[]:\")\n",
    "print(df.iloc[1:3, 0:2])"
   ]
  },
  {
   "cell_type": "markdown",
   "id": "4d5f0634",
   "metadata": {},
   "source": [
    "# Conditional Selection:"
   ]
  },
  {
   "cell_type": "code",
   "execution_count": 3,
   "id": "9684b40c",
   "metadata": {},
   "outputs": [
    {
     "name": "stdout",
     "output_type": "stream",
     "text": [
      "\n",
      "Selecting entries where Age > 25:\n",
      "    Name  Age         City\n",
      "1    Bob   27  Los Angeles\n",
      "3  David   32      Houston\n",
      "\n",
      "Selecting entries where Age > 25 and City is 'Los Angeles':\n",
      "  Name  Age         City\n",
      "1  Bob   27  Los Angeles\n"
     ]
    }
   ],
   "source": [
    "# Selecting entries based on a condition\n",
    "print(\"\\nSelecting entries where Age > 25:\")\n",
    "print(df[df['Age'] > 25])\n",
    "\n",
    "# Combining multiple conditions\n",
    "print(\"\\nSelecting entries where Age > 25 and City is 'Los Angeles':\")\n",
    "print(df[(df['Age'] > 25) & (df['City'] == 'Los Angeles')])"
   ]
  },
  {
   "cell_type": "markdown",
   "id": "d7cd766c",
   "metadata": {},
   "source": [
    "# Using .at[] and .iat[] for Fast Access:"
   ]
  },
  {
   "cell_type": "code",
   "execution_count": 4,
   "id": "0b05ae74",
   "metadata": {},
   "outputs": [
    {
     "name": "stdout",
     "output_type": "stream",
     "text": [
      "\n",
      "Accessing a single value by label with .at[]:\n",
      "Bob\n",
      "\n",
      "Accessing a single value by integer position with .iat[]:\n",
      "22\n"
     ]
    }
   ],
   "source": [
    "# Accessing a single value by label with .at[]\n",
    "print(\"\\nAccessing a single value by label with .at[]:\")\n",
    "print(df.at[1, 'Name'])\n",
    "\n",
    "# Accessing a single value by integer position with .iat[]\n",
    "print(\"\\nAccessing a single value by integer position with .iat[]:\")\n",
    "print(df.iat[2, 1])"
   ]
  },
  {
   "cell_type": "code",
   "execution_count": null,
   "id": "c7b82bce",
   "metadata": {},
   "outputs": [],
   "source": []
  }
 ],
 "metadata": {
  "kernelspec": {
   "display_name": "Python 3 (ipykernel)",
   "language": "python",
   "name": "python3"
  },
  "language_info": {
   "codemirror_mode": {
    "name": "ipython",
    "version": 3
   },
   "file_extension": ".py",
   "mimetype": "text/x-python",
   "name": "python",
   "nbconvert_exporter": "python",
   "pygments_lexer": "ipython3",
   "version": "3.11.5"
  }
 },
 "nbformat": 4,
 "nbformat_minor": 5
}
