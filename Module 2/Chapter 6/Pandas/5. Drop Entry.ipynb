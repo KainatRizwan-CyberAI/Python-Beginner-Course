{
 "cells": [
  {
   "cell_type": "markdown",
   "id": "aa602032",
   "metadata": {},
   "source": [
    "Dropping entries in pandas allows you to remove specified labels (rows or columns) from a Series or DataFrame. This is useful when you need to clean up your data by removing irrelevant or incorrect entries.\n",
    "\n",
    "Dropping Rows: You can drop rows from a Series or DataFrame using the drop() method.\n",
    "\n",
    "Dropping Columns: Similarly, you can drop columns from a DataFrame using the drop() method with the appropriate axis.\n",
    "\n",
    "In-place or Copy: The drop() method can modify the original object or return a new one, depending on the inplace parameter."
   ]
  },
  {
   "cell_type": "markdown",
   "id": "d3c357c9",
   "metadata": {},
   "source": [
    "# Dropping Rows from a Series:"
   ]
  },
  {
   "cell_type": "code",
   "execution_count": 1,
   "id": "5d387898",
   "metadata": {},
   "outputs": [
    {
     "name": "stdout",
     "output_type": "stream",
     "text": [
      "Series after Dropping Row:\n",
      "a    1\n",
      "c    3\n",
      "d    4\n",
      "dtype: int64\n"
     ]
    }
   ],
   "source": [
    "import pandas as pd\n",
    "# Creating a Series\n",
    "s = pd.Series([1, 2, 3, 4], index=['a', 'b', 'c', 'd'])\n",
    "\n",
    "# Dropping a row\n",
    "s_dropped = s.drop('b')\n",
    "print(\"Series after Dropping Row:\")\n",
    "print(s_dropped)"
   ]
  },
  {
   "cell_type": "markdown",
   "id": "0070bec1",
   "metadata": {},
   "source": [
    "# Dropping Rows from a DataFrame:"
   ]
  },
  {
   "cell_type": "code",
   "execution_count": 2,
   "id": "6e35c87e",
   "metadata": {},
   "outputs": [
    {
     "name": "stdout",
     "output_type": "stream",
     "text": [
      "\n",
      "DataFrame after Dropping Row:\n",
      "   Value\n",
      "a     10\n",
      "b     20\n",
      "d     40\n"
     ]
    }
   ],
   "source": [
    "# Creating a DataFrame\n",
    "df = pd.DataFrame({\n",
    "    'Value': [10, 20, 30, 40]\n",
    "}, index=['a', 'b', 'c', 'd'])\n",
    "\n",
    "# Dropping a row\n",
    "df_dropped = df.drop('c')\n",
    "print(\"\\nDataFrame after Dropping Row:\")\n",
    "print(df_dropped)"
   ]
  },
  {
   "cell_type": "markdown",
   "id": "770276aa",
   "metadata": {},
   "source": [
    "# Dropping Columns from a DataFrame:"
   ]
  },
  {
   "cell_type": "code",
   "execution_count": 3,
   "id": "60fa0239",
   "metadata": {},
   "outputs": [
    {
     "name": "stdout",
     "output_type": "stream",
     "text": [
      "\n",
      "DataFrame after Dropping Column:\n",
      "   Value1\n",
      "a      10\n",
      "b      20\n",
      "c      30\n",
      "d      40\n"
     ]
    }
   ],
   "source": [
    "# Creating a DataFrame\n",
    "df = pd.DataFrame({\n",
    "    'Value1': [10, 20, 30, 40],\n",
    "    'Value2': [15, 25, 35, 45]\n",
    "}, index=['a', 'b', 'c', 'd'])\n",
    "\n",
    "# Dropping a column\n",
    "df_dropped_col = df.drop('Value2', axis=1)\n",
    "print(\"\\nDataFrame after Dropping Column:\")\n",
    "print(df_dropped_col)"
   ]
  },
  {
   "cell_type": "markdown",
   "id": "693b3b8a",
   "metadata": {},
   "source": [
    "# Dropping Entries In-place:"
   ]
  },
  {
   "cell_type": "code",
   "execution_count": 4,
   "id": "7a65c6af",
   "metadata": {},
   "outputs": [
    {
     "name": "stdout",
     "output_type": "stream",
     "text": [
      "\n",
      "DataFrame after Dropping Row In-place:\n",
      "   Value1  Value2\n",
      "a      10      15\n",
      "c      30      35\n",
      "d      40      45\n"
     ]
    }
   ],
   "source": [
    "# Dropping a row in-place\n",
    "df.drop('b', inplace=True)\n",
    "print(\"\\nDataFrame after Dropping Row In-place:\")\n",
    "print(df)"
   ]
  },
  {
   "cell_type": "code",
   "execution_count": null,
   "id": "7232e826",
   "metadata": {},
   "outputs": [],
   "source": []
  }
 ],
 "metadata": {
  "kernelspec": {
   "display_name": "Python 3 (ipykernel)",
   "language": "python",
   "name": "python3"
  },
  "language_info": {
   "codemirror_mode": {
    "name": "ipython",
    "version": 3
   },
   "file_extension": ".py",
   "mimetype": "text/x-python",
   "name": "python",
   "nbconvert_exporter": "python",
   "pygments_lexer": "ipython3",
   "version": "3.11.5"
  }
 },
 "nbformat": 4,
 "nbformat_minor": 5
}
