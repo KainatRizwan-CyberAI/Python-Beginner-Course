{
 "cells": [
  {
   "cell_type": "markdown",
   "id": "f0cc20df",
   "metadata": {},
   "source": [
    "# Pandas is used in a variety of fields and applications due to its powerful data manipulation and analysis capabilities. Here are some common areas where pandas is extensively used:\n",
    "\n",
    "Data Cleaning and Preparation: Pandas is widely used for cleaning and preparing raw data for analysis. It provides tools for handling missing data, filtering data, and transforming data into a usable format.\n",
    "\n",
    "Data Analysis and Exploration: Analysts use pandas to explore datasets, calculate summary statistics, and identify patterns or trends.\n",
    "\n",
    "Data Visualization: While pandas itself has limited visualization capabilities, it integrates well with libraries like Matplotlib and Seaborn for creating visual representations of data.\n",
    "\n",
    "Time Series Analysis: Pandas provides robust support for working with time series data, including resampling, frequency conversion, and rolling statistics.\n",
    "\n",
    "Machine Learning: In machine learning pipelines, pandas is used to load, clean, and preprocess data before feeding it into machine learning models. It also aids in feature engineering and model evaluation.\n",
    "\n",
    "Financial Data Analysis: Pandas is extensively used in the financial industry for analyzing stock prices, calculating moving averages, and other financial metrics."
   ]
  },
  {
   "cell_type": "markdown",
   "id": "ef1cd8c1",
   "metadata": {},
   "source": [
    "# Data Cleaning and Preparation:"
   ]
  },
  {
   "cell_type": "code",
   "execution_count": null,
   "id": "2f10ee0c",
   "metadata": {},
   "outputs": [],
   "source": [
    "# Removing rows with missing values\n",
    "df_cleaned = df_with_nan.dropna()\n",
    "print(\"\\nDataFrame after removing rows with missing values:\")\n",
    "print(df_cleaned)"
   ]
  },
  {
   "cell_type": "markdown",
   "id": "98fc6588",
   "metadata": {},
   "source": [
    "# Data Analysis and Exploration:"
   ]
  },
  {
   "cell_type": "code",
   "execution_count": null,
   "id": "f8e7711b",
   "metadata": {},
   "outputs": [],
   "source": [
    "# Calculating summary statistics\n",
    "print(\"\\nSummary Statistics:\")\n",
    "print(df.describe())"
   ]
  },
  {
   "cell_type": "markdown",
   "id": "4703c209",
   "metadata": {},
   "source": [
    "# Time Series Analysis:"
   ]
  },
  {
   "cell_type": "code",
   "execution_count": 2,
   "id": "a5a42e58",
   "metadata": {},
   "outputs": [
    {
     "name": "stdout",
     "output_type": "stream",
     "text": [
      "\n",
      "Time Series DataFrame:\n",
      "            Value\n",
      "2020-01-01      0\n",
      "2020-01-02      1\n",
      "2020-01-03      2\n",
      "2020-01-04      3\n",
      "2020-01-05      4\n",
      "\n",
      "Resampled Time Series DataFrame (Monthly):\n",
      "            Value\n",
      "2020-01-31   15.0\n",
      "2020-02-29   45.0\n",
      "2020-03-31   75.0\n",
      "2020-04-30   95.0\n"
     ]
    }
   ],
   "source": [
    "import pandas as pd\n",
    "# Creating a time series DataFrame\n",
    "date_range = pd.date_range(start='1/1/2020', periods=100)\n",
    "ts_data = pd.DataFrame({'Value': range(100)}, index=date_range)\n",
    "print(\"\\nTime Series DataFrame:\")\n",
    "print(ts_data.head())\n",
    "\n",
    "# Resampling the time series data to monthly frequency\n",
    "ts_resampled = ts_data.resample('M').mean()\n",
    "print(\"\\nResampled Time Series DataFrame (Monthly):\")\n",
    "print(ts_resampled)"
   ]
  },
  {
   "cell_type": "markdown",
   "id": "d87b487e",
   "metadata": {},
   "source": [
    "# Machine Learning:"
   ]
  },
  {
   "cell_type": "code",
   "execution_count": null,
   "id": "7e24acdd",
   "metadata": {},
   "outputs": [],
   "source": [
    "from sklearn.model_selection import train_test_split\n",
    "from sklearn.linear_model import LinearRegression\n",
    "\n",
    "# Assuming df is a DataFrame with features and target variable\n",
    "X = df[['Age']]\n",
    "y = df['Age']\n",
    "\n",
    "# Splitting the data into training and testing sets\n",
    "X_train, X_test, y_train, y_test = train_test_split(X, y, test_size=0.2, random_state=42)\n",
    "\n",
    "# Creating and training a simple linear regression model\n",
    "model = LinearRegression()\n",
    "model.fit(X_train, y_train)\n",
    "\n",
    "# Making predictions\n",
    "predictions = model.predict(X_test)\n",
    "print(\"\\nModel Predictions:\")\n",
    "print(predictions)"
   ]
  }
 ],
 "metadata": {
  "kernelspec": {
   "display_name": "Python 3 (ipykernel)",
   "language": "python",
   "name": "python3"
  },
  "language_info": {
   "codemirror_mode": {
    "name": "ipython",
    "version": 3
   },
   "file_extension": ".py",
   "mimetype": "text/x-python",
   "name": "python",
   "nbconvert_exporter": "python",
   "pygments_lexer": "ipython3",
   "version": "3.11.5"
  }
 },
 "nbformat": 4,
 "nbformat_minor": 5
}
