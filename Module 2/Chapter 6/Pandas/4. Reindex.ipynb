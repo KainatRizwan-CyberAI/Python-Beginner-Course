{
 "cells": [
  {
   "cell_type": "markdown",
   "id": "7623b7d7",
   "metadata": {},
   "source": [
    "Reindexing in pandas allows you to change the index of a Series or DataFrame. This can include adding, removing, or rearranging the labels in the index. Reindexing is particularly useful for aligning data with a new set of labels or ensuring consistent indexing across different pandas objects.\n",
    "\n",
    "Reindexing a Series: You can reindex a Series to conform to a new index, potentially introducing missing values.\n",
    "\n",
    "Reindexing a DataFrame: Similarly, you can reindex a DataFrame along any axis (rows or columns).\n",
    "\n",
    "Handling Missing Data: When reindexing introduces missing values, you can handle them by filling with a specific value or using interpolation methods."
   ]
  },
  {
   "cell_type": "markdown",
   "id": "8b076601",
   "metadata": {},
   "source": [
    "# Reindexing a Series:"
   ]
  },
  {
   "cell_type": "code",
   "execution_count": 1,
   "id": "ccc8e257",
   "metadata": {},
   "outputs": [
    {
     "name": "stdout",
     "output_type": "stream",
     "text": [
      "Reindexed Series:\n",
      "a    1.0\n",
      "b    2.0\n",
      "c    3.0\n",
      "d    NaN\n",
      "dtype: float64\n"
     ]
    }
   ],
   "source": [
    "import pandas as pd\n",
    "# Creating a Series\n",
    "s = pd.Series([1, 2, 3], index=['a', 'b', 'c'])\n",
    "\n",
    "# Reindexing the Series\n",
    "new_index = ['a', 'b', 'c', 'd']\n",
    "s_reindexed = s.reindex(new_index)\n",
    "print(\"Reindexed Series:\")\n",
    "print(s_reindexed)"
   ]
  },
  {
   "cell_type": "markdown",
   "id": "414d9898",
   "metadata": {},
   "source": [
    "# Reindexing a DataFrame:"
   ]
  },
  {
   "cell_type": "code",
   "execution_count": 2,
   "id": "2a8e34a0",
   "metadata": {},
   "outputs": [
    {
     "name": "stdout",
     "output_type": "stream",
     "text": [
      "\n",
      "Reindexed DataFrame:\n",
      "   Value\n",
      "a   10.0\n",
      "b   20.0\n",
      "c   30.0\n",
      "d    NaN\n"
     ]
    }
   ],
   "source": [
    "# Creating a DataFrame\n",
    "df = pd.DataFrame({\n",
    "    'Value': [10, 20, 30]\n",
    "}, index=['a', 'b', 'c'])\n",
    "\n",
    "# Reindexing the DataFrame\n",
    "new_index = ['a', 'b', 'c', 'd']\n",
    "df_reindexed = df.reindex(new_index)\n",
    "print(\"\\nReindexed DataFrame:\")\n",
    "print(df_reindexed)"
   ]
  },
  {
   "cell_type": "markdown",
   "id": "f2401cd6",
   "metadata": {},
   "source": [
    "# Handling Missing Data:"
   ]
  },
  {
   "cell_type": "code",
   "execution_count": 3,
   "id": "65bfd3d3",
   "metadata": {},
   "outputs": [
    {
     "name": "stdout",
     "output_type": "stream",
     "text": [
      "\n",
      "DataFrame with Filled Missing Values:\n",
      "   Value\n",
      "a   10.0\n",
      "b   20.0\n",
      "c   30.0\n",
      "d    0.0\n",
      "\n",
      "DataFrame with Interpolated Missing Values:\n",
      "   Value\n",
      "a   10.0\n",
      "b   20.0\n",
      "c   30.0\n",
      "d   30.0\n"
     ]
    }
   ],
   "source": [
    "# Filling missing values with a specific value\n",
    "df_filled = df_reindexed.fillna(0)\n",
    "print(\"\\nDataFrame with Filled Missing Values:\")\n",
    "print(df_filled)\n",
    "\n",
    "# Interpolating missing values\n",
    "df_interpolated = df_reindexed.interpolate()\n",
    "print(\"\\nDataFrame with Interpolated Missing Values:\")\n",
    "print(df_interpolated)\n"
   ]
  }
 ],
 "metadata": {
  "kernelspec": {
   "display_name": "Python 3 (ipykernel)",
   "language": "python",
   "name": "python3"
  },
  "language_info": {
   "codemirror_mode": {
    "name": "ipython",
    "version": 3
   },
   "file_extension": ".py",
   "mimetype": "text/x-python",
   "name": "python",
   "nbconvert_exporter": "python",
   "pygments_lexer": "ipython3",
   "version": "3.11.5"
  }
 },
 "nbformat": 4,
 "nbformat_minor": 5
}
