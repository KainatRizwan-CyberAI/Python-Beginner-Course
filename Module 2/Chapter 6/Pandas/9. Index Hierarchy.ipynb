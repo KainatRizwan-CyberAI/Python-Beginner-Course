{
 "cells": [
  {
   "cell_type": "markdown",
   "id": "1a8fc50b",
   "metadata": {},
   "source": [
    "Index hierarchy in pandas allows you to work with multi-level indexes (also known as MultiIndex) in Series and DataFrames. This is useful for handling and analyzing data with multiple dimensions or hierarchical relationships.\n",
    "\n",
    "Creating a MultiIndex: You can create a MultiIndex from arrays, tuples, or by setting multiple columns as the index.\n",
    "Accessing Data in MultiIndex: Use methods like .loc[], .xs(), and .swaplevel() to access and manipulate data in MultiIndex.\n",
    "Manipulating MultiIndex: You can reindex, rename levels, and perform other operations on MultiIndex to manage hierarchical data effectively."
   ]
  },
  {
   "cell_type": "markdown",
   "id": "c6cb5d5b",
   "metadata": {},
   "source": [
    "# Creating a MultiIndex from Arrays:"
   ]
  },
  {
   "cell_type": "code",
   "execution_count": 1,
   "id": "82b3fb0b",
   "metadata": {},
   "outputs": [
    {
     "name": "stdout",
     "output_type": "stream",
     "text": [
      "DataFrame with MultiIndex:\n",
      "               Value\n",
      "letter number       \n",
      "A      1          10\n",
      "       2          20\n",
      "B      1          30\n",
      "       2          40\n"
     ]
    }
   ],
   "source": [
    "import pandas as pd\n",
    "# Creating a MultiIndex from arrays\n",
    "arrays = [\n",
    "    ['A', 'A', 'B', 'B'],\n",
    "    [1, 2, 1, 2]\n",
    "]\n",
    "index = pd.MultiIndex.from_arrays(arrays, names=('letter', 'number'))\n",
    "\n",
    "# Creating a DataFrame with MultiIndex\n",
    "df_multi = pd.DataFrame({\n",
    "    'Value': [10, 20, 30, 40]\n",
    "}, index=index)\n",
    "print(\"DataFrame with MultiIndex:\")\n",
    "print(df_multi)"
   ]
  },
  {
   "cell_type": "markdown",
   "id": "218b1045",
   "metadata": {},
   "source": [
    "# Accessing Data in MultiIndex:"
   ]
  },
  {
   "cell_type": "code",
   "execution_count": 2,
   "id": "7bd375cc",
   "metadata": {},
   "outputs": [
    {
     "name": "stdout",
     "output_type": "stream",
     "text": [
      "\n",
      "Accessing Data using .loc[]:\n",
      "        Value\n",
      "number       \n",
      "1          10\n",
      "2          20\n",
      "\n",
      "Accessing Data using .xs():\n",
      "        Value\n",
      "number       \n",
      "1          10\n",
      "2          20\n"
     ]
    }
   ],
   "source": [
    "# Accessing data using .loc[]\n",
    "print(\"\\nAccessing Data using .loc[]:\")\n",
    "print(df_multi.loc['A'])\n",
    "\n",
    "# Accessing data using .xs() (cross-section)\n",
    "print(\"\\nAccessing Data using .xs():\")\n",
    "print(df_multi.xs('A', level='letter'))"
   ]
  },
  {
   "cell_type": "markdown",
   "id": "534694f5",
   "metadata": {},
   "source": [
    "# Manipulating MultiIndex:"
   ]
  },
  {
   "cell_type": "code",
   "execution_count": 3,
   "id": "d22232a9",
   "metadata": {},
   "outputs": [
    {
     "name": "stdout",
     "output_type": "stream",
     "text": [
      "\n",
      "DataFrame with Swapped Levels:\n",
      "               Value\n",
      "number letter       \n",
      "1      A          10\n",
      "2      A          20\n",
      "1      B          30\n",
      "2      B          40\n",
      "\n",
      "DataFrame with Reset Index:\n",
      "  letter  number  Value\n",
      "0      A       1     10\n",
      "1      A       2     20\n",
      "2      B       1     30\n",
      "3      B       2     40\n"
     ]
    }
   ],
   "source": [
    "# Swapping levels\n",
    "df_swapped = df_multi.swaplevel()\n",
    "print(\"\\nDataFrame with Swapped Levels:\")\n",
    "print(df_swapped)\n",
    "\n",
    "# Resetting index to convert MultiIndex to columns\n",
    "df_reset = df_multi.reset_index()\n",
    "print(\"\\nDataFrame with Reset Index:\")\n",
    "print(df_reset)"
   ]
  },
  {
   "cell_type": "code",
   "execution_count": null,
   "id": "9c17a7aa",
   "metadata": {},
   "outputs": [],
   "source": []
  }
 ],
 "metadata": {
  "kernelspec": {
   "display_name": "Python 3 (ipykernel)",
   "language": "python",
   "name": "python3"
  },
  "language_info": {
   "codemirror_mode": {
    "name": "ipython",
    "version": 3
   },
   "file_extension": ".py",
   "mimetype": "text/x-python",
   "name": "python",
   "nbconvert_exporter": "python",
   "pygments_lexer": "ipython3",
   "version": "3.11.5"
  }
 },
 "nbformat": 4,
 "nbformat_minor": 5
}
