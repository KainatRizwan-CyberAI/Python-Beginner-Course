{
 "cells": [
  {
   "cell_type": "markdown",
   "id": "9b29600c",
   "metadata": {},
   "source": [
    "Pandas is a powerful and flexible open-source data analysis and manipulation library for Python. It is widely used in data science, machine learning, and big data analytics for its ability to easily handle and manipulate numerical tables and time series data. Here are some key features of pandas:\n",
    "\n",
    "1) Data Structures: Pandas provides two primary data structures: Series and DataFrame. A Series is a one-dimensional labeled array, while a DataFrame is a two-dimensional labeled data structure with columns of potentially different types.\n",
    "\n",
    "2) Data Alignment and Handling Missing Data: Pandas automatically aligns data in computations and can handle missing data efficiently.\n",
    "\n",
    "3) Label-Based Slicing and Indexing: You can select data by labels using methods like .loc[], and by integer position using .iloc[].\n",
    "\n",
    "4) Group By Functionality: Allows for splitting the data into groups based on some criteria, applying a function to each group independently, and combining the results.\n",
    "\n",
    "5) Integration with Other Libraries: Works well with other data science libraries like NumPy, Matplotlib, and Scikit-learn."
   ]
  },
  {
   "cell_type": "code",
   "execution_count": 1,
   "id": "f17224ce",
   "metadata": {},
   "outputs": [
    {
     "name": "stdout",
     "output_type": "stream",
     "text": [
      "Requirement already satisfied: pandas in f:\\anaconda\\lib\\site-packages (2.0.3)\n",
      "Requirement already satisfied: python-dateutil>=2.8.2 in f:\\anaconda\\lib\\site-packages (from pandas) (2.8.2)\n",
      "Requirement already satisfied: pytz>=2020.1 in f:\\anaconda\\lib\\site-packages (from pandas) (2023.3.post1)\n",
      "Requirement already satisfied: tzdata>=2022.1 in f:\\anaconda\\lib\\site-packages (from pandas) (2023.3)\n",
      "Requirement already satisfied: numpy>=1.21.0 in f:\\anaconda\\lib\\site-packages (from pandas) (1.24.3)\n",
      "Requirement already satisfied: six>=1.5 in f:\\anaconda\\lib\\site-packages (from python-dateutil>=2.8.2->pandas) (1.16.0)\n"
     ]
    }
   ],
   "source": [
    "# If pandas is not already installed, you can install it using pip\n",
    "!pip install pandas"
   ]
  },
  {
   "cell_type": "code",
   "execution_count": 2,
   "id": "10b47215",
   "metadata": {},
   "outputs": [],
   "source": [
    "#import pandas\n",
    "import pandas as pd\n"
   ]
  },
  {
   "cell_type": "code",
   "execution_count": 3,
   "id": "8b6330c0",
   "metadata": {},
   "outputs": [
    {
     "name": "stdout",
     "output_type": "stream",
     "text": [
      "Series:\n",
      "0    1\n",
      "1    3\n",
      "2    5\n",
      "3    7\n",
      "4    9\n",
      "dtype: int64\n"
     ]
    }
   ],
   "source": [
    "# Creating a Series from a list\n",
    "s = pd.Series([1, 3, 5, 7, 9])\n",
    "print(\"Series:\")\n",
    "print(s)\n"
   ]
  },
  {
   "cell_type": "code",
   "execution_count": 4,
   "id": "2ca4250a",
   "metadata": {},
   "outputs": [
    {
     "name": "stdout",
     "output_type": "stream",
     "text": [
      "\n",
      "DataFrame:\n",
      "      Name  Age         City\n",
      "0    Alice   24     New York\n",
      "1      Bob   27  Los Angeles\n",
      "2  Charlie   22      Chicago\n",
      "3    David   32      Houston\n"
     ]
    }
   ],
   "source": [
    "# Creating a DataFrame from a dictionary\n",
    "data = {\n",
    "    'Name': ['Alice', 'Bob', 'Charlie', 'David'],\n",
    "    'Age': [24, 27, 22, 32],\n",
    "    'City': ['New York', 'Los Angeles', 'Chicago', 'Houston']\n",
    "}\n",
    "df = pd.DataFrame(data)\n",
    "print(\"\\nDataFrame:\")\n",
    "print(df)"
   ]
  },
  {
   "cell_type": "markdown",
   "id": "5850b241",
   "metadata": {},
   "source": [
    "# Data Alignment and Handling Missing Data:"
   ]
  },
  {
   "cell_type": "code",
   "execution_count": 5,
   "id": "0d6ef8a7",
   "metadata": {},
   "outputs": [
    {
     "name": "stdout",
     "output_type": "stream",
     "text": [
      "\n",
      "DataFrame with Missing Data:\n",
      "      Name   Age         City\n",
      "0    Alice  24.0     New York\n",
      "1      Bob  27.0  Los Angeles\n",
      "2  Charlie   NaN         None\n",
      "3    David  32.0      Houston\n",
      "\n",
      "DataFrame with Filled Missing Data:\n",
      "      Name      Age         City\n",
      "0    Alice     24.0     New York\n",
      "1      Bob     27.0  Los Angeles\n",
      "2  Charlie  Unknown      Unknown\n",
      "3    David     32.0      Houston\n"
     ]
    }
   ],
   "source": [
    "# Creating a DataFrame with missing data\n",
    "data_with_nan = {\n",
    "    'Name': ['Alice', 'Bob', 'Charlie', 'David'],\n",
    "    'Age': [24, 27, None, 32],\n",
    "    'City': ['New York', 'Los Angeles', None, 'Houston']\n",
    "}\n",
    "df_with_nan = pd.DataFrame(data_with_nan)\n",
    "print(\"\\nDataFrame with Missing Data:\")\n",
    "print(df_with_nan)\n",
    "\n",
    "# Filling missing data\n",
    "df_filled = df_with_nan.fillna('Unknown')\n",
    "print(\"\\nDataFrame with Filled Missing Data:\")\n",
    "print(df_filled)"
   ]
  },
  {
   "cell_type": "markdown",
   "id": "79fc6671",
   "metadata": {},
   "source": [
    "# Label-Based Slicing and Indexing:"
   ]
  },
  {
   "cell_type": "code",
   "execution_count": 6,
   "id": "698f27d6",
   "metadata": {},
   "outputs": [
    {
     "name": "stdout",
     "output_type": "stream",
     "text": [
      "\n",
      "Selecting by label:\n",
      "      Name         City\n",
      "0    Alice     New York\n",
      "1      Bob  Los Angeles\n",
      "2  Charlie      Chicago\n",
      "\n",
      "Selecting by integer position:\n",
      "      Name  Age\n",
      "1      Bob   27\n",
      "2  Charlie   22\n"
     ]
    }
   ],
   "source": [
    "# Selecting data by label\n",
    "print(\"\\nSelecting by label:\")\n",
    "print(df.loc[0:2, ['Name', 'City']])\n",
    "\n",
    "# Selecting data by integer position\n",
    "print(\"\\nSelecting by integer position:\")\n",
    "print(df.iloc[1:3, 0:2])"
   ]
  }
 ],
 "metadata": {
  "kernelspec": {
   "display_name": "Python 3 (ipykernel)",
   "language": "python",
   "name": "python3"
  },
  "language_info": {
   "codemirror_mode": {
    "name": "ipython",
    "version": 3
   },
   "file_extension": ".py",
   "mimetype": "text/x-python",
   "name": "python",
   "nbconvert_exporter": "python",
   "pygments_lexer": "ipython3",
   "version": "3.11.5"
  }
 },
 "nbformat": 4,
 "nbformat_minor": 5
}
