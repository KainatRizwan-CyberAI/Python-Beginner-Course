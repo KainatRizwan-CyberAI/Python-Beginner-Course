{
 "cells": [
  {
   "cell_type": "markdown",
   "id": "d0d2eea9",
   "metadata": {},
   "source": [
    "Data alignment in pandas ensures that data in Series and DataFrames is automatically aligned along the axes during operations. This feature is particularly useful when working with data from different sources that may have different labels or indexes.\n",
    "\n",
    "Automatic Data Alignment: When performing operations between pandas objects, data is aligned based on labels. Missing values are introduced where labels do not match.\n",
    "\n",
    "Aligning Data Manually: You can manually align data using the align() method.\n",
    "\n",
    "Combining Data: Functions like concat(), merge(), and join() allow you to combine data from multiple sources while ensuring proper alignment."
   ]
  },
  {
   "cell_type": "markdown",
   "id": "bbef3b74",
   "metadata": {},
   "source": [
    "# Automatic Data Alignment:"
   ]
  },
  {
   "cell_type": "code",
   "execution_count": 1,
   "id": "df094b0c",
   "metadata": {},
   "outputs": [
    {
     "name": "stdout",
     "output_type": "stream",
     "text": [
      "Automatic Data Alignment:\n",
      "a    NaN\n",
      "b    6.0\n",
      "c    8.0\n",
      "d    NaN\n",
      "dtype: float64\n"
     ]
    }
   ],
   "source": [
    "import pandas as pd\n",
    "# Creating two Series with different indexes\n",
    "s1 = pd.Series([1, 2, 3], index=['a', 'b', 'c'])\n",
    "s2 = pd.Series([4, 5, 6], index=['b', 'c', 'd'])\n",
    "\n",
    "# Performing an operation between Series\n",
    "result = s1 + s2\n",
    "print(\"Automatic Data Alignment:\")\n",
    "print(result)"
   ]
  },
  {
   "cell_type": "markdown",
   "id": "eef5bc60",
   "metadata": {},
   "source": [
    "# Aligning Data Manually with align():"
   ]
  },
  {
   "cell_type": "code",
   "execution_count": 2,
   "id": "d5889783",
   "metadata": {},
   "outputs": [
    {
     "name": "stdout",
     "output_type": "stream",
     "text": [
      "\n",
      "Aligned Series:\n",
      "a    1.0\n",
      "b    2.0\n",
      "c    3.0\n",
      "d    NaN\n",
      "dtype: float64\n",
      "a    NaN\n",
      "b    4.0\n",
      "c    5.0\n",
      "d    6.0\n",
      "dtype: float64\n"
     ]
    }
   ],
   "source": [
    "# Aligning two Series manually\n",
    "s1_aligned, s2_aligned = s1.align(s2, join='outer')\n",
    "print(\"\\nAligned Series:\")\n",
    "print(s1_aligned)\n",
    "print(s2_aligned)"
   ]
  },
  {
   "cell_type": "markdown",
   "id": "60de69cd",
   "metadata": {},
   "source": [
    "# Combining Data with concat():"
   ]
  },
  {
   "cell_type": "code",
   "execution_count": 3,
   "id": "c5291ece",
   "metadata": {},
   "outputs": [
    {
     "name": "stdout",
     "output_type": "stream",
     "text": [
      "\n",
      "Concatenated DataFrame:\n",
      "     A    B    A     C\n",
      "a  1.0  4.0  NaN   NaN\n",
      "b  2.0  5.0  7.0  10.0\n",
      "c  3.0  6.0  8.0  11.0\n",
      "d  NaN  NaN  9.0  12.0\n"
     ]
    }
   ],
   "source": [
    "# Creating two DataFrames\n",
    "df1 = pd.DataFrame({\n",
    "    'A': [1, 2, 3],\n",
    "    'B': [4, 5, 6]\n",
    "}, index=['a', 'b', 'c'])\n",
    "\n",
    "df2 = pd.DataFrame({\n",
    "    'A': [7, 8, 9],\n",
    "    'C': [10, 11, 12]\n",
    "}, index=['b', 'c', 'd'])\n",
    "\n",
    "# Concatenating DataFrames\n",
    "df_concat = pd.concat([df1, df2], axis=1)\n",
    "print(\"\\nConcatenated DataFrame:\")\n",
    "print(df_concat)"
   ]
  },
  {
   "cell_type": "markdown",
   "id": "54a9cbc4",
   "metadata": {},
   "source": [
    "# Combining Data with merge():"
   ]
  },
  {
   "cell_type": "code",
   "execution_count": 4,
   "id": "7bfbde0f",
   "metadata": {},
   "outputs": [
    {
     "name": "stdout",
     "output_type": "stream",
     "text": [
      "\n",
      "Merged DataFrame:\n",
      "   A_x    B  A_y     C\n",
      "a  1.0  4.0  NaN   NaN\n",
      "b  2.0  5.0  7.0  10.0\n",
      "c  3.0  6.0  8.0  11.0\n",
      "d  NaN  NaN  9.0  12.0\n"
     ]
    }
   ],
   "source": [
    "# Merging DataFrames\n",
    "df_merge = pd.merge(df1, df2, left_index=True, right_index=True, how='outer')\n",
    "print(\"\\nMerged DataFrame:\")\n",
    "print(df_merge)"
   ]
  },
  {
   "cell_type": "code",
   "execution_count": null,
   "id": "c3755e61",
   "metadata": {},
   "outputs": [],
   "source": []
  }
 ],
 "metadata": {
  "kernelspec": {
   "display_name": "Python 3 (ipykernel)",
   "language": "python",
   "name": "python3"
  },
  "language_info": {
   "codemirror_mode": {
    "name": "ipython",
    "version": 3
   },
   "file_extension": ".py",
   "mimetype": "text/x-python",
   "name": "python",
   "nbconvert_exporter": "python",
   "pygments_lexer": "ipython3",
   "version": "3.11.5"
  }
 },
 "nbformat": 4,
 "nbformat_minor": 5
}
