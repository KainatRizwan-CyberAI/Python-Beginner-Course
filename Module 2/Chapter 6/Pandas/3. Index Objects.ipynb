{
 "cells": [
  {
   "cell_type": "markdown",
   "id": "d87b7484",
   "metadata": {},
   "source": [
    "In pandas, Index objects are used to manage the axis labels of Series and DataFrames. An Index object can be thought of as an immutable array or ordered set. It ensures the integrity and alignment of data within pandas objects.\n",
    "\n",
    "Creating Index Objects: Index objects are automatically created when you create a Series or DataFrame, but you can also create them manually.\n",
    "\n",
    "Indexing and Slicing: Index objects support standard Python indexing and slicing.\n",
    "\n",
    "Operations on Index: You can perform set operations, such as union, intersection, and difference, on Index objects."
   ]
  },
  {
   "cell_type": "code",
   "execution_count": 3,
   "id": "15fb2fe3",
   "metadata": {},
   "outputs": [
    {
     "name": "stdout",
     "output_type": "stream",
     "text": [
      "Index Object:\n",
      "Index(['a', 'b', 'c', 'd'], dtype='object')\n"
     ]
    }
   ],
   "source": [
    "import pandas as pd\n",
    "# Creating an Index object\n",
    "index = pd.Index(['a', 'b', 'c', 'd'])\n",
    "print(\"Index Object:\")\n",
    "print(index)\n"
   ]
  },
  {
   "cell_type": "code",
   "execution_count": 4,
   "id": "2d907429",
   "metadata": {},
   "outputs": [
    {
     "name": "stdout",
     "output_type": "stream",
     "text": [
      "\n",
      "Series with Custom Index:\n",
      "a    1\n",
      "b    2\n",
      "c    3\n",
      "d    4\n",
      "dtype: int64\n",
      "\n",
      "DataFrame with Custom Index:\n",
      "   Value\n",
      "a     10\n",
      "b     20\n",
      "c     30\n",
      "d     40\n"
     ]
    }
   ],
   "source": [
    "# Using Index object with Series\n",
    "s = pd.Series([1, 2, 3, 4], index=index)\n",
    "print(\"\\nSeries with Custom Index:\")\n",
    "print(s)\n",
    "\n",
    "# Using Index object with DataFrame\n",
    "df = pd.DataFrame({\n",
    "    'Value': [10, 20, 30, 40]\n",
    "}, index=index)\n",
    "print(\"\\nDataFrame with Custom Index:\")\n",
    "print(df)\n"
   ]
  },
  {
   "cell_type": "code",
   "execution_count": 5,
   "id": "3b3b4de5",
   "metadata": {},
   "outputs": [
    {
     "name": "stdout",
     "output_type": "stream",
     "text": [
      "\n",
      "Indexing and Slicing Index Object:\n",
      "b\n",
      "Index(['b', 'c'], dtype='object')\n"
     ]
    }
   ],
   "source": [
    "# Indexing and slicing the Index object\n",
    "print(\"\\nIndexing and Slicing Index Object:\")\n",
    "print(index[1])  # Output: 'b'\n",
    "print(index[1:3])  # Output: Index(['b', 'c'], dtype='object')\n"
   ]
  },
  {
   "cell_type": "code",
   "execution_count": 6,
   "id": "ce85dc4d",
   "metadata": {},
   "outputs": [
    {
     "name": "stdout",
     "output_type": "stream",
     "text": [
      "\n",
      "Union of Indexes:\n",
      "Index(['a', 'b', 'c', 'd'], dtype='object')\n",
      "\n",
      "Intersection of Indexes:\n",
      "Index(['b', 'c'], dtype='object')\n"
     ]
    }
   ],
   "source": [
    "index1 = pd.Index(['a', 'b', 'c'])\n",
    "index2 = pd.Index(['b', 'c', 'd'])\n",
    "\n",
    "# Union of two Index objects\n",
    "union_index = index1.union(index2)\n",
    "print(\"\\nUnion of Indexes:\")\n",
    "print(union_index)\n",
    "\n",
    "# Intersection of two Index objects\n",
    "intersection_index = index1.intersection(index2)\n",
    "print(\"\\nIntersection of Indexes:\")\n",
    "print(intersection_index)\n"
   ]
  }
 ],
 "metadata": {
  "kernelspec": {
   "display_name": "Python 3 (ipykernel)",
   "language": "python",
   "name": "python3"
  },
  "language_info": {
   "codemirror_mode": {
    "name": "ipython",
    "version": 3
   },
   "file_extension": ".py",
   "mimetype": "text/x-python",
   "name": "python",
   "nbconvert_exporter": "python",
   "pygments_lexer": "ipython3",
   "version": "3.11.5"
  }
 },
 "nbformat": 4,
 "nbformat_minor": 5
}
