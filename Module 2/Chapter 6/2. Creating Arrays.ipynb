{
 "cells": [
  {
   "cell_type": "code",
   "execution_count": 1,
   "id": "98c618eb",
   "metadata": {},
   "outputs": [
    {
     "name": "stdout",
     "output_type": "stream",
     "text": [
      "Array from list: [1 2 3 4 5]\n",
      "Array of zeros:\n",
      " [[0. 0. 0.]\n",
      " [0. 0. 0.]\n",
      " [0. 0. 0.]]\n",
      "Array of ones:\n",
      " [[1. 1. 1. 1.]\n",
      " [1. 1. 1. 1.]]\n",
      "Array with range of values: [10 11 12 13 14 15 16 17 18 19]\n",
      "Array with evenly spaced values: [0.   0.25 0.5  0.75 1.  ]\n"
     ]
    }
   ],
   "source": [
    "import numpy as np\n",
    "\n",
    "# Create an array from a list\n",
    "arr1 = np.array([1, 2, 3, 4, 5])\n",
    "print(\"Array from list:\", arr1)\n",
    "\n",
    "# Create an array of zeros\n",
    "arr2 = np.zeros((3, 3))\n",
    "print(\"Array of zeros:\\n\", arr2)\n",
    "\n",
    "# Create an array of ones\n",
    "arr3 = np.ones((2, 4))\n",
    "print(\"Array of ones:\\n\", arr3)\n",
    "\n",
    "# Create an array with a range of values\n",
    "arr4 = np.arange(10, 20)\n",
    "print(\"Array with range of values:\", arr4)\n",
    "\n",
    "# Create an array with values evenly spaced\n",
    "arr5 = np.linspace(0, 1, 5)\n",
    "print(\"Array with evenly spaced values:\", arr5)\n"
   ]
  },
  {
   "cell_type": "code",
   "execution_count": null,
   "id": "f31045a6",
   "metadata": {},
   "outputs": [],
   "source": []
  }
 ],
 "metadata": {
  "kernelspec": {
   "display_name": "Python 3 (ipykernel)",
   "language": "python",
   "name": "python3"
  },
  "language_info": {
   "codemirror_mode": {
    "name": "ipython",
    "version": 3
   },
   "file_extension": ".py",
   "mimetype": "text/x-python",
   "name": "python",
   "nbconvert_exporter": "python",
   "pygments_lexer": "ipython3",
   "version": "3.11.5"
  }
 },
 "nbformat": 4,
 "nbformat_minor": 5
}
