{
 "cells": [
  {
   "cell_type": "code",
   "execution_count": 1,
   "id": "3527fb43",
   "metadata": {},
   "outputs": [
    {
     "name": "stdout",
     "output_type": "stream",
     "text": [
      "Square root of the array: [1.         1.41421356 1.73205081 2.         2.23606798]\n",
      "Natural logarithm of the array: [0.         0.69314718 1.09861229 1.38629436 1.60943791]\n"
     ]
    }
   ],
   "source": [
    "import numpy as np\n",
    "\n",
    "# Create an array\n",
    "arr = np.array([1, 2, 3, 4, 5])\n",
    "\n",
    "# Apply a universal function\n",
    "sqrt_arr = np.sqrt(arr)\n",
    "print(\"Square root of the array:\", sqrt_arr)\n",
    "\n",
    "# Apply another universal function\n",
    "log_arr = np.log(arr)\n",
    "print(\"Natural logarithm of the array:\", log_arr)\n"
   ]
  },
  {
   "cell_type": "code",
   "execution_count": null,
   "id": "f0e26f1f",
   "metadata": {},
   "outputs": [],
   "source": []
  }
 ],
 "metadata": {
  "kernelspec": {
   "display_name": "Python 3 (ipykernel)",
   "language": "python",
   "name": "python3"
  },
  "language_info": {
   "codemirror_mode": {
    "name": "ipython",
    "version": 3
   },
   "file_extension": ".py",
   "mimetype": "text/x-python",
   "name": "python",
   "nbconvert_exporter": "python",
   "pygments_lexer": "ipython3",
   "version": "3.11.5"
  }
 },
 "nbformat": 4,
 "nbformat_minor": 5
}
