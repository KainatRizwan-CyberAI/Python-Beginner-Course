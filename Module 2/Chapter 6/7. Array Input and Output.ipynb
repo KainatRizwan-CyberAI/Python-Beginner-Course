{
 "cells": [
  {
   "cell_type": "code",
   "execution_count": 1,
   "id": "b27bd681",
   "metadata": {},
   "outputs": [
    {
     "name": "stdout",
     "output_type": "stream",
     "text": [
      "Array saved to 'array.npy'\n",
      "Loaded array:\n",
      " [[1 2 3]\n",
      " [4 5 6]]\n",
      "Array saved to 'array.txt'\n",
      "Loaded array from text file:\n",
      " [[1. 2. 3.]\n",
      " [4. 5. 6.]]\n"
     ]
    }
   ],
   "source": [
    "import numpy as np\n",
    "\n",
    "# Create an array\n",
    "arr = np.array([[1, 2, 3], [4, 5, 6]])\n",
    "\n",
    "# Save the array to a file\n",
    "np.save('array.npy', arr)\n",
    "print(\"Array saved to 'array.npy'\")\n",
    "\n",
    "# Load the array from the file\n",
    "loaded_arr = np.load('array.npy')\n",
    "print(\"Loaded array:\\n\", loaded_arr)\n",
    "\n",
    "# Save the array to a text file\n",
    "np.savetxt('array.txt', arr, delimiter=',')\n",
    "print(\"Array saved to 'array.txt'\")\n",
    "\n",
    "# Load the array from the text file\n",
    "loaded_txt_arr = np.loadtxt('array.txt', delimiter=',')\n",
    "print(\"Loaded array from text file:\\n\", loaded_txt_arr)"
   ]
  },
  {
   "cell_type": "code",
   "execution_count": null,
   "id": "e4476780",
   "metadata": {},
   "outputs": [],
   "source": []
  }
 ],
 "metadata": {
  "kernelspec": {
   "display_name": "Python 3 (ipykernel)",
   "language": "python",
   "name": "python3"
  },
  "language_info": {
   "codemirror_mode": {
    "name": "ipython",
    "version": 3
   },
   "file_extension": ".py",
   "mimetype": "text/x-python",
   "name": "python",
   "nbconvert_exporter": "python",
   "pygments_lexer": "ipython3",
   "version": "3.11.5"
  }
 },
 "nbformat": 4,
 "nbformat_minor": 5
}
