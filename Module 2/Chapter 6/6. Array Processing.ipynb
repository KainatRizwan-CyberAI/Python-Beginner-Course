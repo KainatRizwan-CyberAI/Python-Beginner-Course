{
 "cells": [
  {
   "cell_type": "code",
   "execution_count": 1,
   "id": "c77a6205",
   "metadata": {},
   "outputs": [
    {
     "name": "stdout",
     "output_type": "stream",
     "text": [
      "Sorted array: [1 2 5 5 6 9]\n",
      "Filtered array (elements > 5): [9 6]\n",
      "Sum of elements: 28\n",
      "Mean of elements: 4.666666666666667\n"
     ]
    }
   ],
   "source": [
    "import numpy as np\n",
    "\n",
    "# Create an array\n",
    "arr = np.array([5, 2, 9, 1, 5, 6])\n",
    "\n",
    "# Sort the array\n",
    "sorted_arr = np.sort(arr)\n",
    "print(\"Sorted array:\", sorted_arr)\n",
    "\n",
    "# Filter the array\n",
    "filtered_arr = arr[arr > 5]\n",
    "print(\"Filtered array (elements > 5):\", filtered_arr)\n",
    "\n",
    "# Aggregate functions\n",
    "print(\"Sum of elements:\", np.sum(arr))\n",
    "print(\"Mean of elements:\", np.mean(arr))\n"
   ]
  },
  {
   "cell_type": "code",
   "execution_count": null,
   "id": "968f50b8",
   "metadata": {},
   "outputs": [],
   "source": []
  }
 ],
 "metadata": {
  "kernelspec": {
   "display_name": "Python 3 (ipykernel)",
   "language": "python",
   "name": "python3"
  },
  "language_info": {
   "codemirror_mode": {
    "name": "ipython",
    "version": 3
   },
   "file_extension": ".py",
   "mimetype": "text/x-python",
   "name": "python",
   "nbconvert_exporter": "python",
   "pygments_lexer": "ipython3",
   "version": "3.11.5"
  }
 },
 "nbformat": 4,
 "nbformat_minor": 5
}
