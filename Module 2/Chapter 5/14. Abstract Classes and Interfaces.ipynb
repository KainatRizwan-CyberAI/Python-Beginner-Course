{
 "cells": [
  {
   "cell_type": "code",
   "execution_count": 1,
   "id": "c1b7d64b",
   "metadata": {},
   "outputs": [
    {
     "name": "stdout",
     "output_type": "stream",
     "text": [
      "Processing payment of 100 through PayPal\n"
     ]
    }
   ],
   "source": [
    "from abc import ABC, abstractmethod\n",
    "\n",
    "class PaymentProcessor(ABC):\n",
    "    @abstractmethod\n",
    "    def process_payment(self, amount):\n",
    "        pass\n",
    "\n",
    "class PayPal(PaymentProcessor):\n",
    "    def process_payment(self, amount):\n",
    "        print(f\"Processing payment of {amount} through PayPal\")\n",
    "\n",
    "paypal = PayPal()\n",
    "paypal.process_payment(100)\n"
   ]
  },
  {
   "cell_type": "code",
   "execution_count": null,
   "id": "fea681b5",
   "metadata": {},
   "outputs": [],
   "source": []
  }
 ],
 "metadata": {
  "kernelspec": {
   "display_name": "Python 3 (ipykernel)",
   "language": "python",
   "name": "python3"
  },
  "language_info": {
   "codemirror_mode": {
    "name": "ipython",
    "version": 3
   },
   "file_extension": ".py",
   "mimetype": "text/x-python",
   "name": "python",
   "nbconvert_exporter": "python",
   "pygments_lexer": "ipython3",
   "version": "3.11.5"
  }
 },
 "nbformat": 4,
 "nbformat_minor": 5
}
