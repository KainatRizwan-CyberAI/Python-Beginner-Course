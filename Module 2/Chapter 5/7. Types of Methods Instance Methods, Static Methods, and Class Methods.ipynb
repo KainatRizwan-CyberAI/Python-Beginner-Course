{
 "cells": [
  {
   "cell_type": "code",
   "execution_count": 1,
   "id": "2a65935b",
   "metadata": {},
   "outputs": [
    {
     "name": "stdout",
     "output_type": "stream",
     "text": [
      "20\n",
      "20\n",
      "5\n"
     ]
    }
   ],
   "source": [
    "class MathOperations:\n",
    "    def instance_method(self, x):\n",
    "        return x + 10\n",
    "\n",
    "    @staticmethod\n",
    "    def static_method(x):\n",
    "        return x * 2\n",
    "\n",
    "    @classmethod\n",
    "    def class_method(cls, x):\n",
    "        return x - 5\n",
    "\n",
    "obj = MathOperations()\n",
    "print(obj.instance_method(10))\n",
    "print(MathOperations.static_method(10))\n",
    "print(MathOperations.class_method(10))\n"
   ]
  },
  {
   "cell_type": "code",
   "execution_count": null,
   "id": "08f4e0e9",
   "metadata": {},
   "outputs": [],
   "source": []
  }
 ],
 "metadata": {
  "kernelspec": {
   "display_name": "Python 3 (ipykernel)",
   "language": "python",
   "name": "python3"
  },
  "language_info": {
   "codemirror_mode": {
    "name": "ipython",
    "version": 3
   },
   "file_extension": ".py",
   "mimetype": "text/x-python",
   "name": "python",
   "nbconvert_exporter": "python",
   "pygments_lexer": "ipython3",
   "version": "3.11.5"
  }
 },
 "nbformat": 4,
 "nbformat_minor": 5
}
