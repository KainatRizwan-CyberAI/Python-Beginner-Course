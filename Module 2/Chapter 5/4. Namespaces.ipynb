{
 "cells": [
  {
   "cell_type": "markdown",
   "id": "6de4fa27",
   "metadata": {},
   "source": [
    "A namespace is a container where names are mapped to objects. Python has different types of namespaces: local, global, and built-in."
   ]
  },
  {
   "cell_type": "code",
   "execution_count": 1,
   "id": "7afbe776",
   "metadata": {},
   "outputs": [
    {
     "name": "stdout",
     "output_type": "stream",
     "text": [
      "Inner Function: Inner\n",
      "Outer Function: Outer\n"
     ]
    }
   ],
   "source": [
    "def outer_function():\n",
    "    outer_var = \"Outer\"\n",
    "    def inner_function():\n",
    "        inner_var = \"Inner\"\n",
    "        print(\"Inner Function:\", inner_var)\n",
    "    inner_function()\n",
    "    print(\"Outer Function:\", outer_var)\n",
    "\n",
    "outer_function()\n"
   ]
  },
  {
   "cell_type": "code",
   "execution_count": null,
   "id": "f2ac1dcd",
   "metadata": {},
   "outputs": [],
   "source": []
  }
 ],
 "metadata": {
  "kernelspec": {
   "display_name": "Python 3 (ipykernel)",
   "language": "python",
   "name": "python3"
  },
  "language_info": {
   "codemirror_mode": {
    "name": "ipython",
    "version": 3
   },
   "file_extension": ".py",
   "mimetype": "text/x-python",
   "name": "python",
   "nbconvert_exporter": "python",
   "pygments_lexer": "ipython3",
   "version": "3.11.5"
  }
 },
 "nbformat": 4,
 "nbformat_minor": 5
}
