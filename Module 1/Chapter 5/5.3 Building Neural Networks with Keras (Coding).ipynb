{
 "cells": [
  {
   "cell_type": "markdown",
   "id": "ee52b792",
   "metadata": {},
   "source": [
    "Explanation:\n",
    "Keras is a high-level deep learning API built on top of TensorFlow. It allows for rapid prototyping and experimentation with neural networks. Key features include:\n",
    "\n",
    "Sequential API: A simple, linear stack of layers for quick model creation.\n",
    "\n",
    "Functional API: Allows the creation of more complex models, including those with shared layers or multiple inputs and outputs.\n",
    "\n",
    "Callbacks: Useful for monitoring and improving the training process, such as saving models and adjusting learning rates dynamically.\n",
    "\n",
    "Model Training: Easy-to-use methods like fit, evaluate, and predict for model training, evaluation, and prediction."
   ]
  },
  {
   "cell_type": "code",
   "execution_count": 2,
   "id": "f5cc3b04",
   "metadata": {},
   "outputs": [
    {
     "name": "stdout",
     "output_type": "stream",
     "text": [
      "Loss: 0.3543, Accuracy: 0.7500\n",
      "\u001b[1m1/1\u001b[0m \u001b[32m━━━━━━━━━━━━━━━━━━━━\u001b[0m\u001b[37m\u001b[0m \u001b[1m0s\u001b[0m 110ms/step\n",
      "Predictions:\n",
      " [[0.49485812]\n",
      " [0.49485812]\n",
      " [0.98838174]\n",
      " [0.01906964]]\n"
     ]
    }
   ],
   "source": [
    "import numpy as np\n",
    "from keras.models import Sequential\n",
    "from keras.layers import Dense\n",
    "\n",
    "# Define the neural network model\n",
    "model = Sequential()\n",
    "model.add(Dense(8, input_dim=2, activation='relu'))  # Hidden layer with 8 neurons\n",
    "model.add(Dense(4, activation='relu'))  # Hidden layer with 4 neurons\n",
    "model.add(Dense(1, activation='sigmoid'))  # Output layer with sigmoid activation\n",
    "\n",
    "# Compile the model\n",
    "model.compile(optimizer='adam', loss='binary_crossentropy', metrics=['accuracy'])\n",
    "\n",
    "# XOR problem dataset\n",
    "X = np.array([[0, 0], [0, 1], [1, 0], [1, 1]])  # Convert input data to NumPy array\n",
    "y = np.array([0, 1, 1, 0])  # Convert target data to NumPy array\n",
    "\n",
    "# Train the model\n",
    "model.fit(X, y, epochs=1000, verbose=0)\n",
    "\n",
    "# Evaluate the model\n",
    "loss, accuracy = model.evaluate(X, y, verbose=0)\n",
    "print(f\"Loss: {loss:.4f}, Accuracy: {accuracy:.4f}\")\n",
    "\n",
    "# Make predictions\n",
    "predictions = model.predict(X)\n",
    "print(\"Predictions:\\n\", predictions)\n"
   ]
  },
  {
   "cell_type": "code",
   "execution_count": null,
   "id": "0ffb390a",
   "metadata": {},
   "outputs": [],
   "source": []
  }
 ],
 "metadata": {
  "kernelspec": {
   "display_name": "Python 3 (ipykernel)",
   "language": "python",
   "name": "python3"
  },
  "language_info": {
   "codemirror_mode": {
    "name": "ipython",
    "version": 3
   },
   "file_extension": ".py",
   "mimetype": "text/x-python",
   "name": "python",
   "nbconvert_exporter": "python",
   "pygments_lexer": "ipython3",
   "version": "3.11.5"
  }
 },
 "nbformat": 4,
 "nbformat_minor": 5
}
