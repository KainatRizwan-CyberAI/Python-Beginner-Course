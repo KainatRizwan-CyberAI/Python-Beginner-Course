{
 "cells": [
  {
   "cell_type": "code",
   "execution_count": 1,
   "id": "1f7d8be9",
   "metadata": {},
   "outputs": [
    {
     "name": "stdout",
     "output_type": "stream",
     "text": [
      "Enter your name: Kainat\n",
      "Hello Kainat, welcome!\n"
     ]
    }
   ],
   "source": [
    "# Get user input\n",
    "name = input(\"Enter your name: \")\n",
    "\n",
    "# Display the input\n",
    "print(\"Hello {}, welcome!\".format(name))"
   ]
  },
  {
   "cell_type": "code",
   "execution_count": null,
   "id": "bf6dbd34",
   "metadata": {},
   "outputs": [],
   "source": []
  }
 ],
 "metadata": {
  "kernelspec": {
   "display_name": "Python 3 (ipykernel)",
   "language": "python",
   "name": "python3"
  },
  "language_info": {
   "codemirror_mode": {
    "name": "ipython",
    "version": 3
   },
   "file_extension": ".py",
   "mimetype": "text/x-python",
   "name": "python",
   "nbconvert_exporter": "python",
   "pygments_lexer": "ipython3",
   "version": "3.11.5"
  }
 },
 "nbformat": 4,
 "nbformat_minor": 5
}
