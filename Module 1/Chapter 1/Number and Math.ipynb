{
 "cells": [
  {
   "cell_type": "code",
   "execution_count": 1,
   "id": "6f2bc2cc",
   "metadata": {},
   "outputs": [
    {
     "name": "stdout",
     "output_type": "stream",
     "text": [
      "Sum: 15\n",
      "Difference: 5\n",
      "Product: 50\n",
      "Quotient: 2.0\n",
      "Power: 100000\n",
      "Remainder: 0\n"
     ]
    }
   ],
   "source": [
    "# Numbers Module\n",
    "\n",
    "# Integers\n",
    "num1 = 10\n",
    "num2 = 5\n",
    "\n",
    "# Addition\n",
    "sum_result = num1 + num2\n",
    "print(\"Sum:\", sum_result)\n",
    "\n",
    "# Subtraction\n",
    "difference = num1 - num2\n",
    "print(\"Difference:\", difference)\n",
    "\n",
    "# Multiplication\n",
    "product = num1 * num2\n",
    "print(\"Product:\", product)\n",
    "\n",
    "# Division\n",
    "quotient = num1 / num2\n",
    "print(\"Quotient:\", quotient)\n",
    "\n",
    "# Exponentiation\n",
    "power = num1 ** num2\n",
    "print(\"Power:\", power)\n",
    "\n",
    "# Modulo\n",
    "remainder = num1 % num2\n",
    "print(\"Remainder:\", remainder)"
   ]
  },
  {
   "cell_type": "code",
   "execution_count": 2,
   "id": "be39b958",
   "metadata": {},
   "outputs": [
    {
     "name": "stdout",
     "output_type": "stream",
     "text": [
      "Square Root: 5.0\n",
      "Sine: 0.7071067811865476\n",
      "Cosine: 0.7071067811865476\n",
      "Floor Division: 2\n"
     ]
    }
   ],
   "source": [
    "# Math module\n",
    "import math\n",
    "\n",
    "# Square root\n",
    "sqrt_result = math.sqrt(25)\n",
    "print(\"Square Root:\", sqrt_result)\n",
    "\n",
    "# Trigonometric functions\n",
    "angle = math.pi / 4\n",
    "sin_value = math.sin(angle)\n",
    "cos_value = math.cos(angle)\n",
    "print(\"Sine:\", sin_value)\n",
    "print(\"Cosine:\", cos_value)\n",
    "\n",
    "# Floor division\n",
    "floor_division = num1 // num2\n",
    "print(\"Floor Division:\", floor_division)\n"
   ]
  },
  {
   "cell_type": "code",
   "execution_count": null,
   "id": "bff6ee4f",
   "metadata": {},
   "outputs": [],
   "source": []
  }
 ],
 "metadata": {
  "kernelspec": {
   "display_name": "Python 3 (ipykernel)",
   "language": "python",
   "name": "python3"
  },
  "language_info": {
   "codemirror_mode": {
    "name": "ipython",
    "version": 3
   },
   "file_extension": ".py",
   "mimetype": "text/x-python",
   "name": "python",
   "nbconvert_exporter": "python",
   "pygments_lexer": "ipython3",
   "version": "3.11.5"
  }
 },
 "nbformat": 4,
 "nbformat_minor": 5
}
