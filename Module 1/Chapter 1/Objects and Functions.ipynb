{
 "cells": [
  {
   "cell_type": "code",
   "execution_count": 1,
   "id": "6bb40c76",
   "metadata": {},
   "outputs": [
    {
     "name": "stdout",
     "output_type": "stream",
     "text": [
      "Hello, Alice\n",
      "Sum of numbers: 15\n",
      "Person: {'name': 'Bob', 'age': 30}\n",
      "Name: Bob\n",
      "Hello, Alice\n"
     ]
    }
   ],
   "source": [
    "# Create and use Python core objects and functions\n",
    "\n",
    "# Strings\n",
    "name = \"Alice\"\n",
    "print(\"Hello, \" + name)\n",
    "\n",
    "# Lists\n",
    "numbers = [1, 2, 3, 4, 5]\n",
    "print(\"Sum of numbers:\", sum(numbers))\n",
    "\n",
    "# Dictionaries\n",
    "person = {\"name\": \"Bob\", \"age\": 30}\n",
    "print(\"Person:\", person)\n",
    "print(\"Name:\", person[\"name\"])\n",
    "\n",
    "# Functions\n",
    "def greet(name):\n",
    "    return \"Hello, \" + name\n",
    "\n",
    "print(greet(name))"
   ]
  },
  {
   "cell_type": "code",
   "execution_count": null,
   "id": "e510d75d",
   "metadata": {},
   "outputs": [],
   "source": []
  }
 ],
 "metadata": {
  "kernelspec": {
   "display_name": "Python 3 (ipykernel)",
   "language": "python",
   "name": "python3"
  },
  "language_info": {
   "codemirror_mode": {
    "name": "ipython",
    "version": 3
   },
   "file_extension": ".py",
   "mimetype": "text/x-python",
   "name": "python",
   "nbconvert_exporter": "python",
   "pygments_lexer": "ipython3",
   "version": "3.11.5"
  }
 },
 "nbformat": 4,
 "nbformat_minor": 5
}
