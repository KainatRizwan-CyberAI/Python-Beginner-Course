{
 "cells": [
  {
   "cell_type": "code",
   "execution_count": 1,
   "id": "25a599ec",
   "metadata": {},
   "outputs": [
    {
     "name": "stdout",
     "output_type": "stream",
     "text": [
      "42\n"
     ]
    }
   ],
   "source": [
    "# Integer\n",
    "int num = 42\n",
    "print(num)"
   ]
  },
  {
   "cell_type": "code",
   "execution_count": 2,
   "id": "a45401e2",
   "metadata": {},
   "outputs": [
    {
     "name": "stdout",
     "output_type": "stream",
     "text": [
      "3.14\n"
     ]
    }
   ],
   "source": [
    "# Float\n",
    "pi = 3.14\n",
    "print(pi)"
   ]
  },
  {
   "cell_type": "code",
   "execution_count": 3,
   "id": "fdc5c7ff",
   "metadata": {},
   "outputs": [
    {
     "name": "stdout",
     "output_type": "stream",
     "text": [
      "Hello, Alice\n"
     ]
    }
   ],
   "source": [
    "# String\n",
    "name = \"Alice\"\n",
    "print(\"Hello, \" + name)"
   ]
  },
  {
   "cell_type": "code",
   "execution_count": 4,
   "id": "2ca05ea5",
   "metadata": {},
   "outputs": [
    {
     "name": "stdout",
     "output_type": "stream",
     "text": [
      "Is it sunny today? True\n"
     ]
    }
   ],
   "source": [
    "# Boolean\n",
    "is_sunny = True\n",
    "print(\"Is it sunny today?\", is_sunny)"
   ]
  },
  {
   "cell_type": "code",
   "execution_count": 5,
   "id": "e7bc282a",
   "metadata": {},
   "outputs": [
    {
     "name": "stdout",
     "output_type": "stream",
     "text": [
      "['apple', 'banana', 'orange']\n"
     ]
    }
   ],
   "source": [
    "# List\n",
    "fruits = [\"apple\", \"banana\", \"orange\"]\n",
    "print(fruits)"
   ]
  },
  {
   "cell_type": "code",
   "execution_count": 6,
   "id": "fb4699a2",
   "metadata": {},
   "outputs": [
    {
     "name": "stdout",
     "output_type": "stream",
     "text": [
      "Coordinates: (10, 20)\n"
     ]
    }
   ],
   "source": [
    "# Tuple\n",
    "coordinates = (10, 20)\n",
    "print(\"Coordinates:\", coordinates)"
   ]
  },
  {
   "cell_type": "code",
   "execution_count": 7,
   "id": "903ae831",
   "metadata": {},
   "outputs": [
    {
     "name": "stdout",
     "output_type": "stream",
     "text": [
      "{1, 2, 3, 4, 5}\n"
     ]
    }
   ],
   "source": [
    "# Set\n",
    "unique_numbers = {1, 2, 3, 4, 5}\n",
    "print(unique_numbers)"
   ]
  },
  {
   "cell_type": "code",
   "execution_count": 8,
   "id": "d54e661d",
   "metadata": {},
   "outputs": [
    {
     "name": "stdout",
     "output_type": "stream",
     "text": [
      "{'name': 'Bob', 'age': 30, 'city': 'New York'}\n"
     ]
    }
   ],
   "source": [
    "# Dictionary\n",
    "person = {\"name\": \"Bob\", \"age\": 30, \"city\": \"New York\"}\n",
    "print(person)"
   ]
  },
  {
   "cell_type": "code",
   "execution_count": 1,
   "id": "f43bed05",
   "metadata": {},
   "outputs": [
    {
     "name": "stdout",
     "output_type": "stream",
     "text": [
      "It's not sunny today.\n",
      "It's raining.\n"
     ]
    }
   ],
   "source": [
    "# Boolean\n",
    "is_sunny = False\n",
    "is_raining = True\n",
    "\n",
    "if is_sunny:\n",
    "    print(\"It's sunny today!\")\n",
    "else:\n",
    "    print(\"It's not sunny today.\")\n",
    "\n",
    "if not is_raining:\n",
    "    print(\"It's not raining right now.\")\n",
    "else:\n",
    "    print(\"It's raining.\")\n"
   ]
  },
  {
   "cell_type": "code",
   "execution_count": null,
   "id": "608303f7",
   "metadata": {},
   "outputs": [],
   "source": []
  }
 ],
 "metadata": {
  "kernelspec": {
   "display_name": "Python 3 (ipykernel)",
   "language": "python",
   "name": "python3"
  },
  "language_info": {
   "codemirror_mode": {
    "name": "ipython",
    "version": 3
   },
   "file_extension": ".py",
   "mimetype": "text/x-python",
   "name": "python",
   "nbconvert_exporter": "python",
   "pygments_lexer": "ipython3",
   "version": "3.11.5"
  }
 },
 "nbformat": 4,
 "nbformat_minor": 5
}
