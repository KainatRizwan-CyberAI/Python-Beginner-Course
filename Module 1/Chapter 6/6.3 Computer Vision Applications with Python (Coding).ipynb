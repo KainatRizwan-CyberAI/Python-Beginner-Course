{
 "cells": [
  {
   "cell_type": "markdown",
   "id": "67ad9989",
   "metadata": {},
   "source": [
    "Explanation:\n",
    "Computer Vision is a field of AI that enables computers to interpret and understand visual information from the world. It involves techniques for processing and analyzing images and videos. Key concepts include:\n",
    "\n",
    "Image Processing: Techniques such as filtering, edge detection, and morphological operations to enhance or extract information from images.\n",
    "\n",
    "Object Detection: Identifying and locating objects within an image.\n",
    "\n",
    "Image Classification: Assigning labels to images based on their content.\n",
    "\n",
    "Convolutional Neural Networks (CNNs): A type of deep learning model specifically designed for processing grid-like data such as images.\n",
    "\n",
    "OpenCV: An open-source computer vision library that provides tools for real-time image processing."
   ]
  },
  {
   "cell_type": "code",
   "execution_count": 6,
   "id": "19427244",
   "metadata": {},
   "outputs": [
    {
     "name": "stderr",
     "output_type": "stream",
     "text": [
      "F:\\anaconda\\Lib\\site-packages\\keras\\src\\layers\\convolutional\\base_conv.py:107: UserWarning: Do not pass an `input_shape`/`input_dim` argument to a layer. When using Sequential models, prefer using an `Input(shape)` object as the first layer in the model instead.\n",
      "  super().__init__(activity_regularizer=activity_regularizer, **kwargs)\n"
     ]
    },
    {
     "name": "stdout",
     "output_type": "stream",
     "text": [
      "\u001b[1m1/1\u001b[0m \u001b[32m━━━━━━━━━━━━━━━━━━━━\u001b[0m\u001b[37m\u001b[0m \u001b[1m4s\u001b[0m 4s/step\n",
      "Predicted class: 5\n"
     ]
    }
   ],
   "source": [
    "import numpy as np\n",
    "from tensorflow.keras.models import Sequential\n",
    "from tensorflow.keras.layers import Conv2D, MaxPooling2D, Flatten, Dense\n",
    "\n",
    "# Create a static grayscale image of size 64x64 with random values\n",
    "image = np.random.rand(64, 64).astype(np.float32)\n",
    "\n",
    "# Reshape the image to match the input shape expected by the CNN\n",
    "image = image.reshape(1, 64, 64, 1)  # (batch_size, height, width, channels)\n",
    "\n",
    "# Define a simple CNN model\n",
    "model = Sequential([\n",
    "    Conv2D(32, (3, 3), activation='relu', input_shape=(64, 64, 1)),\n",
    "    MaxPooling2D((2, 2)),\n",
    "    Conv2D(64, (3, 3), activation='relu'),\n",
    "    MaxPooling2D((2, 2)),\n",
    "    Flatten(),\n",
    "    Dense(64, activation='relu'),\n",
    "    Dense(10, activation='softmax')  # Assuming 10 classes\n",
    "])\n",
    "\n",
    "# Compile the model\n",
    "model.compile(optimizer='adam', loss='sparse_categorical_crossentropy', metrics=['accuracy'])\n",
    "\n",
    "# Placeholder for training\n",
    "# model.fit(train_images, train_labels, epochs=10, validation_data=(test_images, test_labels))\n",
    "\n",
    "# Predict using the model\n",
    "predictions = model.predict(image)\n",
    "print(\"Predicted class:\", np.argmax(predictions))\n"
   ]
  },
  {
   "cell_type": "code",
   "execution_count": null,
   "id": "1c4b5130",
   "metadata": {},
   "outputs": [],
   "source": []
  }
 ],
 "metadata": {
  "kernelspec": {
   "display_name": "Python 3 (ipykernel)",
   "language": "python",
   "name": "python3"
  },
  "language_info": {
   "codemirror_mode": {
    "name": "ipython",
    "version": 3
   },
   "file_extension": ".py",
   "mimetype": "text/x-python",
   "name": "python",
   "nbconvert_exporter": "python",
   "pygments_lexer": "ipython3",
   "version": "3.11.5"
  }
 },
 "nbformat": 4,
 "nbformat_minor": 5
}
