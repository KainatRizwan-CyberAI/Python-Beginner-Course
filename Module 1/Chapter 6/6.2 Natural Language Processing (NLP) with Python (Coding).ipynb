{
 "cells": [
  {
   "cell_type": "markdown",
   "id": "f071bb23",
   "metadata": {},
   "source": [
    "Explanation:\n",
    "Natural Language Processing (NLP) is a field of AI that focuses on the interaction between computers and human language. It involves the development of algorithms that can understand, interpret, and generate human language. Key concepts include:\n",
    "\n",
    "Tokenization: Splitting text into words or subwords.\n",
    "\n",
    "Stemming and Lemmatization: Reducing words to their base or root form.\n",
    "\n",
    "Stopwords: Commonly used words (e.g., \"and\", \"the\") that are often removed in NLP tasks.\n",
    "\n",
    "Bag of Words: A representation of text where the frequency of each word is considered.\n",
    "\n",
    "TF-IDF: Term Frequency-Inverse Document Frequency, a statistical measure used to evaluate the importance of a word in a document relative to a collection of documents.\n",
    "\n",
    "Word Embeddings: Dense vector representations of words that capture their semantic meaning, such as Word2Vec or GloVe."
   ]
  },
  {
   "cell_type": "code",
   "execution_count": 1,
   "id": "fb530c2f",
   "metadata": {},
   "outputs": [
    {
     "name": "stderr",
     "output_type": "stream",
     "text": [
      "[nltk_data] Downloading package punkt to\n",
      "[nltk_data]     C:\\Users\\iShop\\AppData\\Roaming\\nltk_data...\n",
      "[nltk_data]   Package punkt is already up-to-date!\n",
      "[nltk_data] Downloading package stopwords to\n",
      "[nltk_data]     C:\\Users\\iShop\\AppData\\Roaming\\nltk_data...\n",
      "[nltk_data]   Package stopwords is already up-to-date!\n",
      "[nltk_data] Downloading package wordnet to\n",
      "[nltk_data]     C:\\Users\\iShop\\AppData\\Roaming\\nltk_data...\n"
     ]
    },
    {
     "name": "stdout",
     "output_type": "stream",
     "text": [
      "Tokens: ['natural', 'language', 'processing', 'with', 'python', 'is', 'fun', 'and', 'exciting', '!']\n",
      "Filtered Tokens: ['natural', 'language', 'processing', 'python', 'fun', 'exciting', '!']\n",
      "Lemmatized Tokens: ['natural', 'language', 'processing', 'python', 'fun', 'exciting', '!']\n",
      "TF-IDF Matrix:\n",
      " [[0.40824829 0.40824829 0.40824829 0.40824829 0.40824829 0.40824829]]\n",
      "Feature Names: ['exciting' 'fun' 'language' 'natural' 'processing' 'python']\n"
     ]
    }
   ],
   "source": [
    "import nltk\n",
    "from nltk.tokenize import word_tokenize\n",
    "from nltk.corpus import stopwords\n",
    "from nltk.stem import WordNetLemmatizer\n",
    "from sklearn.feature_extraction.text import TfidfVectorizer\n",
    "\n",
    "nltk.download('punkt')\n",
    "nltk.download('stopwords')\n",
    "nltk.download('wordnet')\n",
    "\n",
    "# Sample text\n",
    "text = \"Natural Language Processing with Python is fun and exciting!\"\n",
    "\n",
    "# Tokenization\n",
    "tokens = word_tokenize(text.lower())\n",
    "print(\"Tokens:\", tokens)\n",
    "\n",
    "# Remove stopwords\n",
    "filtered_tokens = [word for word in tokens if word not in stopwords.words('english')]\n",
    "print(\"Filtered Tokens:\", filtered_tokens)\n",
    "\n",
    "# Lemmatization\n",
    "lemmatizer = WordNetLemmatizer()\n",
    "lemmatized_tokens = [lemmatizer.lemmatize(word) for word in filtered_tokens]\n",
    "print(\"Lemmatized Tokens:\", lemmatized_tokens)\n",
    "\n",
    "# TF-IDF Vectorization\n",
    "tfidf_vectorizer = TfidfVectorizer()\n",
    "tfidf_matrix = tfidf_vectorizer.fit_transform([\" \".join(lemmatized_tokens)])\n",
    "print(\"TF-IDF Matrix:\\n\", tfidf_matrix.toarray())\n",
    "\n",
    "# Feature Names\n",
    "print(\"Feature Names:\", tfidf_vectorizer.get_feature_names_out())\n"
   ]
  },
  {
   "cell_type": "code",
   "execution_count": null,
   "id": "dda73d0c",
   "metadata": {},
   "outputs": [],
   "source": []
  }
 ],
 "metadata": {
  "kernelspec": {
   "display_name": "Python 3 (ipykernel)",
   "language": "python",
   "name": "python3"
  },
  "language_info": {
   "codemirror_mode": {
    "name": "ipython",
    "version": 3
   },
   "file_extension": ".py",
   "mimetype": "text/x-python",
   "name": "python",
   "nbconvert_exporter": "python",
   "pygments_lexer": "ipython3",
   "version": "3.11.5"
  }
 },
 "nbformat": 4,
 "nbformat_minor": 5
}
