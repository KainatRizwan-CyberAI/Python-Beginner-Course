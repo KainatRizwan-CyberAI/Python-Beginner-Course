{
 "cells": [
  {
   "cell_type": "markdown",
   "id": "3dc367af",
   "metadata": {},
   "source": [
    "Explanation:\n",
    "Reinforcement Learning (RL) is a type of machine learning where an agent learns to make decisions by interacting with an environment. The agent receives rewards or penalties based on the actions it takes, aiming to maximize cumulative rewards over time. Key concepts include:\n",
    "\n",
    "Agent: The decision-maker.\n",
    "\n",
    "Environment: The world with which the agent interacts.\n",
    "\n",
    "State: A representation of the current situation of the environment.\n",
    "\n",
    "Action: The choices available to the agent.\n",
    "\n",
    "Reward: The feedback the agent receives after taking an action.\n",
    "\n",
    "Policy: A strategy that the agent follows to determine actions based on the state.\n",
    "\n",
    "Q-Learning: A popular RL algorithm that seeks to learn a policy by updating Q-values, which estimate the expected reward of taking an action in a given state."
   ]
  },
  {
   "cell_type": "code",
   "execution_count": 2,
   "id": "5baa5ee8",
   "metadata": {},
   "outputs": [
    {
     "name": "stdout",
     "output_type": "stream",
     "text": [
      "Trained Q-Table:\n",
      "[[0.17445926 0.72442911]\n",
      " [0.08726795 0.80905147]\n",
      " [0.34888804 0.89977085]\n",
      " [0.26769819 0.99997344]\n",
      " [0.         0.        ]]\n"
     ]
    }
   ],
   "source": [
    "import numpy as np\n",
    "import random\n",
    "\n",
    "# Define the environment\n",
    "class SimpleEnvironment:\n",
    "    def __init__(self, size=5):\n",
    "        self.size = size\n",
    "        self.state = 0  # Starting state\n",
    "\n",
    "    def reset(self):\n",
    "        self.state = 0\n",
    "        return self.state\n",
    "\n",
    "    def step(self, action):\n",
    "        if action == 1 and self.state < self.size - 1:  # Move right, stay within bounds\n",
    "            self.state += 1\n",
    "        elif action == 0 and self.state > 0:  # Move left, stay within bounds\n",
    "            self.state -= 1\n",
    "\n",
    "        if self.state == self.size - 1:\n",
    "            reward = 1  # Goal reached\n",
    "            done = True\n",
    "        else:\n",
    "            reward = 0\n",
    "            done = False\n",
    "\n",
    "        return self.state, reward, done\n",
    "\n",
    "# Q-Learning algorithm\n",
    "class QLearningAgent:\n",
    "    def __init__(self, n_states, n_actions, alpha=0.1, gamma=0.9, epsilon=0.1):\n",
    "        self.q_table = np.zeros((n_states, n_actions))\n",
    "        self.alpha = alpha  # Learning rate\n",
    "        self.gamma = gamma  # Discount factor\n",
    "        self.epsilon = epsilon  # Exploration factor\n",
    "\n",
    "    def choose_action(self, state):\n",
    "        if random.uniform(0, 1) < self.epsilon:\n",
    "            return random.choice([0, 1])  # Explore: random action\n",
    "        else:\n",
    "            return np.argmax(self.q_table[state])  # Exploit: best action\n",
    "\n",
    "    def update_q_table(self, state, action, reward, next_state):\n",
    "        predict = self.q_table[state, action]\n",
    "        target = reward + self.gamma * np.max(self.q_table[next_state])\n",
    "        self.q_table[state, action] += self.alpha * (target - predict)\n",
    "\n",
    "# Main training loop\n",
    "env = SimpleEnvironment(size=5)\n",
    "agent = QLearningAgent(n_states=5, n_actions=2)\n",
    "\n",
    "for episode in range(100):\n",
    "    state = env.reset()\n",
    "    done = False\n",
    "\n",
    "    while not done:\n",
    "        action = agent.choose_action(state)\n",
    "        next_state, reward, done = env.step(action)\n",
    "        agent.update_q_table(state, action, reward, next_state)\n",
    "        state = next_state\n",
    "\n",
    "print(\"Trained Q-Table:\")\n",
    "print(agent.q_table)"
   ]
  },
  {
   "cell_type": "code",
   "execution_count": null,
   "id": "4539c966",
   "metadata": {},
   "outputs": [],
   "source": []
  }
 ],
 "metadata": {
  "kernelspec": {
   "display_name": "Python 3 (ipykernel)",
   "language": "python",
   "name": "python3"
  },
  "language_info": {
   "codemirror_mode": {
    "name": "ipython",
    "version": 3
   },
   "file_extension": ".py",
   "mimetype": "text/x-python",
   "name": "python",
   "nbconvert_exporter": "python",
   "pygments_lexer": "ipython3",
   "version": "3.11.5"
  }
 },
 "nbformat": 4,
 "nbformat_minor": 5
}
